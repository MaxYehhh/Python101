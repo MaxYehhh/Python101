{
 "cells": [
  {
   "cell_type": "markdown",
   "metadata": {},
   "source": [
    "<p style=\"font-size:30px;font-weight:bold;margin-top:-0px\">Python 101</p>\n",
    "<p style=\"font-size:25px;font-weight:bold;\">Assignment 2 ─ 該怎麼找錢？（進階版）</p>\n",
    "<hr style=\"border:1px solid #edf1f2;\" />\n",
    "\n",
    "\n",
    "> **題目敘述**\n",
    "\n",
    "> **以下是一些範例**\n",
    "\n",
    "> **在本題中，請您透過程式，設計成可以輸入消費金額，並隨即輸出各張面額鈔票的找錢張數，需符合上述規則的唯一找錢方式。**\n",
    ">\n",
    "> 參考輸出形式：\n",
    ">- 輸入\n",
    "\n",
    ">- 輸出\n",
    "\n",
    "----\n",
    "Ref：\n",
    "- Course：[用 Python 做商管程式設計（一）(Programming for Business Computing in Python (1))](https://www.coursera.org/learn/pbc1)\n",
    "- Assignment：https://www.coursera.org/learn/pbc1/exam/RYnNM/di-san-zhou-zuo-ye-gai-zen-mo-zhao-qian-jin-jie-ban/attempt"
   ]
  },
  {
   "cell_type": "markdown",
   "metadata": {},
   "source": [
    "# Answer\n",
    "\n",
    "- Answer1 & Answer2，哪一個寫法比較好呢？"
   ]
  },
  {
   "cell_type": "markdown",
   "metadata": {},
   "source": [
    "## Answer 1"
   ]
  },
  {
   "cell_type": "code",
   "execution_count": 20,
   "metadata": {},
   "outputs": [
    {
     "name": "stdout",
     "output_type": "stream",
     "text": [
      "請輸入消費金額：286\n",
      "500, 1; 100, 2; 10, 1; 1, \n"
     ]
    }
   ],
   "source": [
    "try:\n",
    "    expense = int(input('請輸入消費金額：'))\n",
    "    \n",
    "    if 1 <= expense <= 999:\n",
    "        change = 1000 - expense\n",
    "        a = change // 500\n",
    "        b = (change - 500*a) // 100\n",
    "        c = (change - 500*a - 100*b) // 50\n",
    "        d = (change - 500*a - 100*b - 50*c) // 10\n",
    "        e = (change - 500*a - 100*b - 50*c - 10*d) // 5\n",
    "        f = (change - 500*a - 100*b - 50*c - 10*d - 5*e) // 1\n",
    "        result = ''\n",
    "\n",
    "        if a != 0:\n",
    "            result = '500, ' + str(a) + '; '\n",
    "        if b != 0:\n",
    "            result = result + '100, ' + str(b) + '; '\n",
    "        if c != 0:\n",
    "            result = result + '50, ' + str(c) + '; '\n",
    "        if d != 0:\n",
    "            result = result + '10, ' + str(d) + '; '\n",
    "        if e != 0:\n",
    "            result = result + '5, ' + str(e) + '; '\n",
    "        if f != 0:\n",
    "            result = result + '1, ' + str(f) + '; '\n",
    "            \n",
    "        print(result[:-2])\n",
    "        \n",
    "    else:\n",
    "        print('請輸入介於 1 到 999 之間的整數')\n",
    "except:\n",
    "    print('請輸入整數')"
   ]
  },
  {
   "cell_type": "markdown",
   "metadata": {},
   "source": [
    "## Answer 2"
   ]
  },
  {
   "cell_type": "code",
   "execution_count": 22,
   "metadata": {},
   "outputs": [
    {
     "name": "stdout",
     "output_type": "stream",
     "text": [
      "請輸入消費金額：286\n",
      "500, 1; 100, 2; 10, 1; 1, 4\n"
     ]
    }
   ],
   "source": [
    "try:\n",
    "    expense = int(input('請輸入消費金額：'))\n",
    "    \n",
    "    if 1 <= expense <= 999:\n",
    "        change = 1000 - expense\n",
    "        a = change // 500\n",
    "        b = (change - 500*a) // 100\n",
    "        c = (change - 500*a - 100*b) // 50\n",
    "        d = (change - 500*a - 100*b - 50*c) // 10\n",
    "        e = (change - 500*a - 100*b - 50*c - 10*d) // 5\n",
    "        f = (change - 500*a - 100*b - 50*c - 10*d - 5*e) // 1\n",
    "        \n",
    "        amount_dict = {'500': a,'100': b,'50': c,'10': d,'5': e,'1': f}\n",
    "        result = ''\n",
    "        for amount, num in amount_dict.items():\n",
    "            if num != 0:\n",
    "                result += f'{amount}, {num}; '\n",
    "            else:\n",
    "                continue\n",
    "\n",
    "        print(result[:-2])\n",
    "        \n",
    "    else:\n",
    "        print('請輸入介於 1 到 999 之間的整數')\n",
    "except:\n",
    "    print('請輸入整數')"
   ]
  },
  {
   "cell_type": "markdown",
   "metadata": {},
   "source": [
    "## Answer 3 (Function)"
   ]
  },
  {
   "cell_type": "code",
   "execution_count": 41,
   "metadata": {},
   "outputs": [],
   "source": [
    "def money_exchange(expense):\n",
    "    if type(expense) == int:\n",
    "        if 1 <= expense <= 999:\n",
    "            change = 1000 - expense\n",
    "            a = change // 500\n",
    "            b = (change - 500*a) // 100\n",
    "            c = (change - 500*a - 100*b) // 50\n",
    "            d = (change - 500*a - 100*b - 50*c) // 10\n",
    "            e = (change - 500*a - 100*b - 50*c - 10*d) // 5\n",
    "            f = (change - 500*a - 100*b - 50*c - 10*d - 5*e) // 1\n",
    "\n",
    "            amount_dict = {'500': a,'100': b,'50': c,'10': d,'5': e,'1': f}\n",
    "            result = ''\n",
    "            for amount, num in amount_dict.items():\n",
    "                if num != 0:\n",
    "                    result += f'{amount}, {num}; '\n",
    "                else:\n",
    "                    continue\n",
    "            print(result[:-2])\n",
    "        else:\n",
    "            print('請輸入介於 1 到 999 之間的整數')\n",
    "    else:\n",
    "        print('請輸入整數')"
   ]
  },
  {
   "cell_type": "markdown",
   "metadata": {},
   "source": [
    "# Q1: 消費金額 = 100"
   ]
  },
  {
   "cell_type": "code",
   "execution_count": 23,
   "metadata": {},
   "outputs": [
    {
     "name": "stdout",
     "output_type": "stream",
     "text": [
      "請輸入消費金額：100\n",
      "500, 1; 100, 4\n"
     ]
    }
   ],
   "source": [
    "try:\n",
    "    expense = int(input('請輸入消費金額：'))\n",
    "    \n",
    "    if 1 <= expense <= 999:\n",
    "        change = 1000 - expense\n",
    "        a = change // 500\n",
    "        b = (change - 500*a) // 100\n",
    "        c = (change - 500*a - 100*b) // 50\n",
    "        d = (change - 500*a - 100*b - 50*c) // 10\n",
    "        e = (change - 500*a - 100*b - 50*c - 10*d) // 5\n",
    "        f = (change - 500*a - 100*b - 50*c - 10*d - 5*e) // 1\n",
    "        \n",
    "        amount_dict = {'500': a,'100': b,'50': c,'10': d,'5': e,'1': f}\n",
    "        result = ''\n",
    "        for amount, num in amount_dict.items():\n",
    "            if num != 0:\n",
    "                result += f'{amount}, {num}; '\n",
    "            else:\n",
    "                continue\n",
    "\n",
    "        print(result[:-2])\n",
    "        \n",
    "    else:\n",
    "        print('請輸入介於 1 到 999 之間的整數')\n",
    "except:\n",
    "    print('請輸入整數')"
   ]
  },
  {
   "cell_type": "code",
   "execution_count": 45,
   "metadata": {},
   "outputs": [
    {
     "name": "stdout",
     "output_type": "stream",
     "text": [
      "500, 1; 100, 4\n"
     ]
    }
   ],
   "source": [
    "money_exchange(100)"
   ]
  },
  {
   "cell_type": "markdown",
   "metadata": {},
   "source": [
    "# Q2: 消費金額 = 1"
   ]
  },
  {
   "cell_type": "code",
   "execution_count": 24,
   "metadata": {},
   "outputs": [
    {
     "name": "stdout",
     "output_type": "stream",
     "text": [
      "請輸入消費金額：1\n",
      "500, 1; 100, 4; 50, 1; 10, 4; 5, 1; 1, 4\n"
     ]
    }
   ],
   "source": [
    "try:\n",
    "    expense = int(input('請輸入消費金額：'))\n",
    "    \n",
    "    if 1 <= expense <= 999:\n",
    "        change = 1000 - expense\n",
    "        a = change // 500\n",
    "        b = (change - 500*a) // 100\n",
    "        c = (change - 500*a - 100*b) // 50\n",
    "        d = (change - 500*a - 100*b - 50*c) // 10\n",
    "        e = (change - 500*a - 100*b - 50*c - 10*d) // 5\n",
    "        f = (change - 500*a - 100*b - 50*c - 10*d - 5*e) // 1\n",
    "        \n",
    "        amount_dict = {'500': a,'100': b,'50': c,'10': d,'5': e,'1': f}\n",
    "        result = ''\n",
    "        for amount, num in amount_dict.items():\n",
    "            if num != 0:\n",
    "                result += f'{amount}, {num}; '\n",
    "            else:\n",
    "                continue\n",
    "\n",
    "        print(result[:-2])\n",
    "        \n",
    "    else:\n",
    "        print('請輸入介於 1 到 999 之間的整數')\n",
    "except:\n",
    "    print('請輸入整數')"
   ]
  },
  {
   "cell_type": "code",
   "execution_count": 46,
   "metadata": {},
   "outputs": [
    {
     "name": "stdout",
     "output_type": "stream",
     "text": [
      "500, 1; 100, 4; 50, 1; 10, 4; 5, 1; 1, 4\n"
     ]
    }
   ],
   "source": [
    "money_exchange(1)"
   ]
  },
  {
   "cell_type": "markdown",
   "metadata": {},
   "source": [
    "# Q3: 消費金額 = 841"
   ]
  },
  {
   "cell_type": "code",
   "execution_count": 25,
   "metadata": {},
   "outputs": [
    {
     "name": "stdout",
     "output_type": "stream",
     "text": [
      "請輸入消費金額：841\n",
      "100, 1; 50, 1; 5, 1; 1, 4\n"
     ]
    }
   ],
   "source": [
    "try:\n",
    "    expense = int(input('請輸入消費金額：'))\n",
    "    \n",
    "    if 1 <= expense <= 999:\n",
    "        change = 1000 - expense\n",
    "        a = change // 500\n",
    "        b = (change - 500*a) // 100\n",
    "        c = (change - 500*a - 100*b) // 50\n",
    "        d = (change - 500*a - 100*b - 50*c) // 10\n",
    "        e = (change - 500*a - 100*b - 50*c - 10*d) // 5\n",
    "        f = (change - 500*a - 100*b - 50*c - 10*d - 5*e) // 1\n",
    "        \n",
    "        amount_dict = {'500': a,'100': b,'50': c,'10': d,'5': e,'1': f}\n",
    "        result = ''\n",
    "        for amount, num in amount_dict.items():\n",
    "            if num != 0:\n",
    "                result += f'{amount}, {num}; '\n",
    "            else:\n",
    "                continue\n",
    "\n",
    "        print(result[:-2])\n",
    "        \n",
    "    else:\n",
    "        print('請輸入介於 1 到 999 之間的整數')\n",
    "except:\n",
    "    print('請輸入整數')"
   ]
  },
  {
   "cell_type": "code",
   "execution_count": 47,
   "metadata": {},
   "outputs": [
    {
     "name": "stdout",
     "output_type": "stream",
     "text": [
      "100, 1; 50, 1; 5, 1; 1, 4\n"
     ]
    }
   ],
   "source": [
    "money_exchange(841)"
   ]
  }
 ],
 "metadata": {
  "kernelspec": {
   "display_name": "Python 3",
   "language": "python",
   "name": "python3"
  },
  "language_info": {
   "codemirror_mode": {
    "name": "ipython",
    "version": 3
   },
   "file_extension": ".py",
   "mimetype": "text/x-python",
   "name": "python",
   "nbconvert_exporter": "python",
   "pygments_lexer": "ipython3",
   "version": "3.8.5"
  },
  "toc": {
   "base_numbering": 1,
   "nav_menu": {},
   "number_sections": true,
   "sideBar": true,
   "skip_h1_title": false,
   "title_cell": "Table of Contents",
   "title_sidebar": "Contents",
   "toc_cell": false,
   "toc_position": {},
   "toc_section_display": true,
   "toc_window_display": true
  }
 },
 "nbformat": 4,
 "nbformat_minor": 4
}
