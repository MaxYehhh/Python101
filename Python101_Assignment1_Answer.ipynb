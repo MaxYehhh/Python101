{
 "cells": [
  {
   "cell_type": "markdown",
   "id": "8f40de36",
   "metadata": {},
   "source": [
    "<p style=\"font-size:30px;font-weight:bold;margin-top:-0px\">Python 101</p>\n",
    "<p style=\"font-size:25px;font-weight:bold;\">Assignment 1 ─ 該怎麼找錢？</p>\n",
    "<hr style=\"border:1px solid #edf1f2;\" />\n",
    "\n",
    "> Ref\n",
    ">- Course：[用 Python 做商管程式設計（一）(Programming for Business Computing in Python (1))](https://www.coursera.org/learn/pbc1)\n",
    ">- Assignment：https://www.coursera.org/learn/pbc1/exam/PW8fi/di-er-zhou-zuo-ye-gai-zen-mo-zhao-qian/attempt"
   ]
  },
  {
   "cell_type": "code",
   "execution_count": 6,
   "id": "77f3c610",
   "metadata": {},
   "outputs": [
    {
     "name": "stdout",
     "output_type": "stream",
     "text": [
      "請輸入消費金額：286\n",
      "500： 1\n",
      "100： 2\n",
      "50： 0\n",
      "10： 1\n",
      "5： 0\n",
      "1： 4\n"
     ]
    }
   ],
   "source": [
    "expense = int(input('請輸入消費金額：'))\n",
    "change = 1000 - expense\n",
    "a = change // 500\n",
    "b = (change - 500*a) // 100\n",
    "c = (change - 500*a - 100*b) // 50\n",
    "d = (change - 500*a - 100*b - 50*c) // 10\n",
    "e = (change - 500*a - 100*b - 50*c - 10*d) // 5\n",
    "f = (change - 500*a - 100*b - 50*c - 10*d - 5*e) // 1\n",
    "\n",
    "print('500：', a)\n",
    "print('100：', b)\n",
    "print('50：', c)\n",
    "print('10：', d)\n",
    "print('5：', e)\n",
    "print('1：', f)"
   ]
  },
  {
   "cell_type": "code",
   "execution_count": null,
   "id": "726bb7b5",
   "metadata": {},
   "outputs": [],
   "source": []
  },
  {
   "cell_type": "code",
   "execution_count": null,
   "id": "18549b6d",
   "metadata": {},
   "outputs": [],
   "source": []
  },
  {
   "cell_type": "code",
   "execution_count": null,
   "id": "3c9d46f2",
   "metadata": {},
   "outputs": [],
   "source": []
  }
 ],
 "metadata": {
  "kernelspec": {
   "display_name": "Python 3",
   "language": "python",
   "name": "python3"
  },
  "language_info": {
   "codemirror_mode": {
    "name": "ipython",
    "version": 3
   },
   "file_extension": ".py",
   "mimetype": "text/x-python",
   "name": "python",
   "nbconvert_exporter": "python",
   "pygments_lexer": "ipython3",
   "version": "3.7.3"
  },
  "toc": {
   "base_numbering": 1,
   "nav_menu": {},
   "number_sections": true,
   "sideBar": true,
   "skip_h1_title": false,
   "title_cell": "Table of Contents",
   "title_sidebar": "Contents",
   "toc_cell": false,
   "toc_position": {},
   "toc_section_display": true,
   "toc_window_display": true
  }
 },
 "nbformat": 4,
 "nbformat_minor": 5
}
