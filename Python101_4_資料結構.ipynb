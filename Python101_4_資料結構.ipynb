{
 "cells": [
  {
   "cell_type": "markdown",
   "metadata": {},
   "source": [
    "<p style=\"font-size:30px;font-weight:bold;margin-top:-0px\">Python 101</p>\n",
    "<p style=\"font-size:25px;font-weight:bold;\">資料結構 Data Structures</p>\n",
    "<hr style=\"border:1px solid #edf1f2;\" />\n",
    "\n",
    "**還記得前面的資料型態吧！**\n",
    "- 前面說過，資料好比「蓋房子的元件」，會有不同的種類（型態），接下來我們要從資料型態邁向資料結構（Structures）！\n",
    "    - 透過結合資料型態，可以堆疊出更進階的 Python 應用。\n",
    "- 在電腦科學中，**資料結構是電腦儲存、組織以及存取資料的機制**，在 Python 中我們可以透過四種基本資料結構來儲存、組織以及存取在 Python 的資料型別。"
   ]
  },
  {
   "cell_type": "markdown",
   "metadata": {},
   "source": [
    "# 串列（List）\n",
    "- 串列 list 是 Python 最基礎且最為常用的資料結構。\n",
    "- 使用 **[ ]（中括號）** 建立。\n",
    "> **特點**\n",
    ">- list 有順序性\n",
    ">- list 可以索引\n",
    ">- list 內可包含不同資料型態對象\n",
    ">- list 長度可變動\n",
    ">- list 內容可變動"
   ]
  },
  {
   "cell_type": "markdown",
   "metadata": {},
   "source": [
    "## 創建"
   ]
  },
  {
   "cell_type": "code",
   "execution_count": null,
   "metadata": {},
   "outputs": [],
   "source": [
    "num_list = [1, 3, 5, 7]\n",
    "num_list"
   ]
  },
  {
   "cell_type": "code",
   "execution_count": null,
   "metadata": {
    "scrolled": true
   },
   "outputs": [],
   "source": [
    "type(num_list)"
   ]
  },
  {
   "cell_type": "code",
   "execution_count": null,
   "metadata": {},
   "outputs": [],
   "source": [
    "# list 內可包含不同資料型態\n",
    "\n",
    "mix_list = [1, 'dog', True]\n",
    "print(type(mix_list))\n",
    "print(type(mix_list[0]))\n",
    "print(type(mix_list[1]))\n",
    "print(type(mix_list[-1]))"
   ]
  },
  {
   "cell_type": "code",
   "execution_count": null,
   "metadata": {},
   "outputs": [],
   "source": [
    "# 創建一個空 list\n",
    "\n",
    "empty_list = []  # or list()\n",
    "empty_list"
   ]
  },
  {
   "cell_type": "markdown",
   "metadata": {},
   "source": [
    "## 索引"
   ]
  },
  {
   "cell_type": "code",
   "execution_count": null,
   "metadata": {},
   "outputs": [],
   "source": [
    "# 索引 / 具有順序性\n",
    "\n",
    "print(num_list[0])\n",
    "print(num_list[1])\n",
    "print(num_list[2])\n",
    "print(num_list[3])"
   ]
  },
  {
   "cell_type": "code",
   "execution_count": null,
   "metadata": {},
   "outputs": [],
   "source": [
    "# 索引也可以倒著來\n",
    "\n",
    "print(num_list[-1])\n",
    "print(num_list[-2])"
   ]
  },
  {
   "cell_type": "code",
   "execution_count": null,
   "metadata": {},
   "outputs": [],
   "source": [
    "# 或是索引一個範圍\n",
    "\n",
    "print(num_list[:2])  # 不包含 index[2]\n",
    "print(num_list[:3])\n",
    "print(num_list[1:])  # 從 index[1] 開始\n",
    "print(num_list[1:3])\n",
    "print(num_list[:])  # all"
   ]
  },
  {
   "cell_type": "markdown",
   "metadata": {},
   "source": [
    "## list 的一些操作"
   ]
  },
  {
   "cell_type": "code",
   "execution_count": null,
   "metadata": {},
   "outputs": [],
   "source": [
    "# 查看 list 的長度\n",
    "\n",
    "len(num_list)"
   ]
  },
  {
   "cell_type": "code",
   "execution_count": null,
   "metadata": {},
   "outputs": [],
   "source": [
    "# 將兩個 list 合併\n",
    "\n",
    "first_list = [1,2,3]\n",
    "second_list = [4,5,6]\n",
    "\n",
    "whole_list = first_list + second_list\n",
    "whole_list"
   ]
  },
  {
   "cell_type": "code",
   "execution_count": null,
   "metadata": {},
   "outputs": [],
   "source": [
    "# 新增一個值進去\n",
    "\n",
    "whole_list = whole_list + [99]\n",
    "whole_list"
   ]
  },
  {
   "cell_type": "code",
   "execution_count": null,
   "metadata": {},
   "outputs": [],
   "source": [
    "# 還可以倍數增長\n",
    "\n",
    "whole_list * 2"
   ]
  },
  {
   "cell_type": "code",
   "execution_count": null,
   "metadata": {},
   "outputs": [],
   "source": [
    "# list 內容可以變動\n",
    "\n",
    "whole_list[-1] = 7\n",
    "whole_list"
   ]
  },
  {
   "cell_type": "markdown",
   "metadata": {},
   "source": [
    "## list 內建函式\n",
    "> Ref\n",
    ">- [在 Python 列表中的 del、remove 和 pop 方法區別的介紹](https://www.delftstack.com/zh-tw/howto/python/what-is-difference-between-del-remove-and-pop-on-python-lists/)"
   ]
  },
  {
   "cell_type": "code",
   "execution_count": null,
   "metadata": {},
   "outputs": [],
   "source": [
    "mix_list = [1, 'dog', True]\n",
    "mix_list"
   ]
  },
  {
   "cell_type": "code",
   "execution_count": null,
   "metadata": {},
   "outputs": [],
   "source": [
    "# append：新增資料\n",
    "\n",
    "mix_list.append(888)\n",
    "mix_list"
   ]
  },
  {
   "cell_type": "code",
   "execution_count": null,
   "metadata": {},
   "outputs": [],
   "source": [
    "# pop：刪除資料（default: -1，可指定索引值）\n",
    "\n",
    "mix_list.pop()  # return 刪除的元素"
   ]
  },
  {
   "cell_type": "code",
   "execution_count": null,
   "metadata": {},
   "outputs": [],
   "source": [
    "# remove：刪除資料（指定要刪除的元素，不需要知道索引值）\n",
    "\n",
    "mix_list.remove(1)\n",
    "mix_list"
   ]
  },
  {
   "cell_type": "code",
   "execution_count": null,
   "metadata": {},
   "outputs": [],
   "source": [
    "# sort\n",
    "\n",
    "numbers = [22, 89, 56, 12]\n",
    "numbers.sort()\n",
    "numbers"
   ]
  },
  {
   "cell_type": "markdown",
   "metadata": {},
   "source": [
    "## 巢狀 list"
   ]
  },
  {
   "cell_type": "code",
   "execution_count": null,
   "metadata": {},
   "outputs": [],
   "source": [
    "first_list = [1,2,3]\n",
    "second_list = [4,5,6]\n",
    "nested_list = [first_list, second_list]\n",
    "\n",
    "nested_list"
   ]
  },
  {
   "cell_type": "code",
   "execution_count": null,
   "metadata": {},
   "outputs": [],
   "source": [
    "print(nested_list[0])\n",
    "print(nested_list[1])"
   ]
  },
  {
   "cell_type": "code",
   "execution_count": null,
   "metadata": {},
   "outputs": [],
   "source": [
    "# 要怎麼 return 出 2 呢？\n",
    "\n"
   ]
  },
  {
   "cell_type": "markdown",
   "metadata": {},
   "source": [
    "# 字典（Dictionary）\n",
    "- 結構：**{ 'key': value }**\n",
    "    - 分別將「鍵」與「資料」以 Keys 及 Values 記錄。\n",
    "- 利用鍵（Keys）來對資料做索引。\n",
    "    - 這樣的特性讓我們在選擇時可以使用資料的鍵，如此一來在面對長度很大的資料時，不需要耗時計算資料所在的位置。"
   ]
  },
  {
   "cell_type": "markdown",
   "metadata": {},
   "source": [
    "## 創建"
   ]
  },
  {
   "cell_type": "markdown",
   "metadata": {},
   "source": [
    "### 基本型"
   ]
  },
  {
   "cell_type": "code",
   "execution_count": null,
   "metadata": {},
   "outputs": [],
   "source": [
    "score_dict = {'Max': 98, 'Elaine': 87, 'Michelle': 76}\n",
    "score_dict"
   ]
  },
  {
   "cell_type": "code",
   "execution_count": null,
   "metadata": {},
   "outputs": [],
   "source": [
    "score_dict['Max']"
   ]
  },
  {
   "cell_type": "code",
   "execution_count": null,
   "metadata": {},
   "outputs": [],
   "source": [
    "type(score_dict)"
   ]
  },
  {
   "cell_type": "code",
   "execution_count": null,
   "metadata": {},
   "outputs": [],
   "source": [
    "# 創建一個空 dict\n",
    "\n",
    "empty_dict = {}  # or dict()\n",
    "type(empty_dict)"
   ]
  },
  {
   "cell_type": "markdown",
   "metadata": {},
   "source": [
    "### 複雜一點點"
   ]
  },
  {
   "cell_type": "code",
   "execution_count": null,
   "metadata": {},
   "outputs": [],
   "source": [
    "# dict 的 value 可為多種型態，如 list, 甚至是 nested dict\n",
    "\n",
    "info_dict = {'name': 'Andy', \n",
    "             'sex': 'male',\n",
    "             'contacts': {'FB': 'Andy',\n",
    "                          'IG': 'i_am_andy'\n",
    "                         },\n",
    "             'hobbies': ['guitar', 'basketball']\n",
    "            }"
   ]
  },
  {
   "cell_type": "code",
   "execution_count": null,
   "metadata": {},
   "outputs": [],
   "source": [
    "# Get name\n"
   ]
  },
  {
   "cell_type": "code",
   "execution_count": null,
   "metadata": {},
   "outputs": [],
   "source": [
    "# Get IG's value\n"
   ]
  },
  {
   "cell_type": "code",
   "execution_count": null,
   "metadata": {},
   "outputs": [],
   "source": [
    "# Get 'guitar'\n"
   ]
  },
  {
   "cell_type": "markdown",
   "metadata": {},
   "source": [
    "## key-value 操作"
   ]
  },
  {
   "cell_type": "code",
   "execution_count": null,
   "metadata": {
    "code_folding": []
   },
   "outputs": [],
   "source": [
    "# 新增 key-value 鍵對\n",
    "\n",
    "info_dict['mobile'] = '0912345678'\n",
    "info_dict"
   ]
  },
  {
   "cell_type": "code",
   "execution_count": null,
   "metadata": {},
   "outputs": [],
   "source": [
    "# 重新對既有 dict 內的 key 賦值\n",
    "\n",
    "info_dict['hobbies'] = ['piano', 'badminton']\n",
    "info_dict"
   ]
  },
  {
   "cell_type": "markdown",
   "metadata": {},
   "source": [
    "## dict 內建函式"
   ]
  },
  {
   "cell_type": "code",
   "execution_count": null,
   "metadata": {},
   "outputs": [],
   "source": [
    "info_dict.keys()"
   ]
  },
  {
   "cell_type": "code",
   "execution_count": null,
   "metadata": {},
   "outputs": [],
   "source": [
    "info_dict.values()"
   ]
  },
  {
   "cell_type": "code",
   "execution_count": null,
   "metadata": {},
   "outputs": [],
   "source": [
    "info_dict.items()"
   ]
  },
  {
   "cell_type": "code",
   "execution_count": null,
   "metadata": {},
   "outputs": [],
   "source": [
    "# 刪除特定項目\n",
    "\n",
    "info_dict.pop('sex')\n",
    "info_dict"
   ]
  },
  {
   "cell_type": "markdown",
   "metadata": {},
   "source": [
    "# 元組（Tuple）\n",
    "- 多數的特性都與 list 相同\n",
    "    - 例如：在索引與切割的部分與串列操作語法完全相同。\n",
    "- 與 list 最大的差異在於 **tuple 是不可變動（Immutable）的資料結構**\n",
    "    - 不具備任何包含新增、刪除與排序資料的操作。"
   ]
  },
  {
   "cell_type": "markdown",
   "metadata": {},
   "source": [
    "## 創建"
   ]
  },
  {
   "cell_type": "markdown",
   "metadata": {},
   "source": [
    "### 基本型"
   ]
  },
  {
   "cell_type": "code",
   "execution_count": null,
   "metadata": {},
   "outputs": [],
   "source": [
    "t = (10, 20, 30)\n",
    "t"
   ]
  },
  {
   "cell_type": "code",
   "execution_count": null,
   "metadata": {},
   "outputs": [],
   "source": [
    "# index\n",
    "\n",
    "t[1]"
   ]
  },
  {
   "cell_type": "code",
   "execution_count": 99,
   "metadata": {},
   "outputs": [
    {
     "data": {
      "text/plain": [
       "3"
      ]
     },
     "execution_count": 99,
     "metadata": {},
     "output_type": "execute_result"
    }
   ],
   "source": [
    "# length\n",
    "\n",
    "len(t)"
   ]
  },
  {
   "cell_type": "code",
   "execution_count": null,
   "metadata": {},
   "outputs": [],
   "source": [
    "# 創建一個空 tuple\n",
    "\n",
    "empty_tuple = ()  # or tuple()\n",
    "type(empty_tuple)"
   ]
  },
  {
   "cell_type": "markdown",
   "metadata": {},
   "source": [
    "### 複雜一點點"
   ]
  },
  {
   "cell_type": "code",
   "execution_count": null,
   "metadata": {},
   "outputs": [],
   "source": [
    "# tuple 的 value 一樣可為多種型態\n",
    "\n",
    "test_tuple = ([1,2,3], 'hello', {'key': 168}, (10,20,30))\n",
    "test_tuple"
   ]
  },
  {
   "cell_type": "code",
   "execution_count": null,
   "metadata": {},
   "outputs": [],
   "source": [
    "# Get 'hello'\n"
   ]
  },
  {
   "cell_type": "code",
   "execution_count": null,
   "metadata": {},
   "outputs": [],
   "source": [
    "# Get value 30\n"
   ]
  },
  {
   "cell_type": "code",
   "execution_count": null,
   "metadata": {},
   "outputs": [],
   "source": [
    "# Get key's value (168)\n"
   ]
  },
  {
   "cell_type": "markdown",
   "metadata": {},
   "source": [
    "## 操作"
   ]
  },
  {
   "cell_type": "code",
   "execution_count": 100,
   "metadata": {},
   "outputs": [
    {
     "data": {
      "text/plain": [
       "(10, 20, 30)"
      ]
     },
     "execution_count": 100,
     "metadata": {},
     "output_type": "execute_result"
    }
   ],
   "source": [
    "t = (10, 20, 30)\n",
    "t"
   ]
  },
  {
   "cell_type": "code",
   "execution_count": 101,
   "metadata": {},
   "outputs": [
    {
     "ename": "TypeError",
     "evalue": "'tuple' object does not support item assignment",
     "output_type": "error",
     "traceback": [
      "\u001b[0;31m---------------------------------------------------------------------------\u001b[0m",
      "\u001b[0;31mTypeError\u001b[0m                                 Traceback (most recent call last)",
      "\u001b[0;32m<ipython-input-101-be31cff7e1f8>\u001b[0m in \u001b[0;36m<module>\u001b[0;34m\u001b[0m\n\u001b[0;32m----> 1\u001b[0;31m \u001b[0mt\u001b[0m\u001b[0;34m[\u001b[0m\u001b[0;36m0\u001b[0m\u001b[0;34m]\u001b[0m \u001b[0;34m=\u001b[0m \u001b[0;36m888\u001b[0m\u001b[0;34m\u001b[0m\u001b[0;34m\u001b[0m\u001b[0m\n\u001b[0m",
      "\u001b[0;31mTypeError\u001b[0m: 'tuple' object does not support item assignment"
     ]
    }
   ],
   "source": [
    "# tuple 是不可變動（Immutable）的資料結構！\n",
    "\n",
    "t[0] = 888"
   ]
  },
  {
   "cell_type": "code",
   "execution_count": 104,
   "metadata": {},
   "outputs": [
    {
     "data": {
      "text/plain": [
       "(888, 20, 30)"
      ]
     },
     "execution_count": 104,
     "metadata": {},
     "output_type": "execute_result"
    }
   ],
   "source": [
    "# 需要透過一些轉換...\n",
    "\n",
    "list_t = list(t)\n",
    "list_t[0] = 888\n",
    "new_t = tuple(list_t)\n",
    "\n",
    "new_t"
   ]
  },
  {
   "cell_type": "markdown",
   "metadata": {},
   "source": [
    "# 集合（Set）\n",
    "- 建立的時候使用大括號 { }（別跟 dict 搞混啊）\n",
    "- 這個資料結構用來對應數學中的集合相關定理和操作\n",
    "    - 只儲存獨一的資料\n",
    "    - 是一種「無序」的結構，不支援索引\n",
    "- 基礎的集合操作有四個：\n",
    "    1. 交集（Intersection）\n",
    "    2. 聯集（Union）\n",
    "    3. 差集（Difference）\n",
    "    4. 對稱差集（Symmetric difference）"
   ]
  },
  {
   "cell_type": "markdown",
   "metadata": {},
   "source": [
    "## 創建"
   ]
  },
  {
   "cell_type": "code",
   "execution_count": 105,
   "metadata": {},
   "outputs": [
    {
     "data": {
      "text/plain": [
       "{10, 20, 30}"
      ]
     },
     "execution_count": 105,
     "metadata": {},
     "output_type": "execute_result"
    }
   ],
   "source": [
    "s = {10, 20, 30}\n",
    "s"
   ]
  },
  {
   "cell_type": "code",
   "execution_count": 106,
   "metadata": {},
   "outputs": [
    {
     "data": {
      "text/plain": [
       "set"
      ]
     },
     "execution_count": 106,
     "metadata": {},
     "output_type": "execute_result"
    }
   ],
   "source": [
    "type(s)"
   ]
  },
  {
   "cell_type": "markdown",
   "metadata": {},
   "source": [
    "## list 之上的應用"
   ]
  },
  {
   "cell_type": "code",
   "execution_count": 108,
   "metadata": {},
   "outputs": [
    {
     "name": "stdout",
     "output_type": "stream",
     "text": [
      "{80, 90, 100, 85}\n",
      "<class 'set'>\n"
     ]
    }
   ],
   "source": [
    "# list 中有重複的值，我只想取出不重複（unique）的值\n",
    "\n",
    "num_list = [100, 90, 90, 80, 85, 85, 85]\n",
    "\n",
    "print(set(num_list))\n",
    "print(type(set(num_list)))"
   ]
  },
  {
   "cell_type": "code",
   "execution_count": 110,
   "metadata": {},
   "outputs": [
    {
     "data": {
      "text/plain": [
       "[80, 90, 100, 85]"
      ]
     },
     "execution_count": 110,
     "metadata": {},
     "output_type": "execute_result"
    }
   ],
   "source": [
    "num_set = set(num_list)\n",
    "no_repeat_num_list = list(num_set)\n",
    "\n",
    "no_repeat_num_list"
   ]
  }
 ],
 "metadata": {
  "kernelspec": {
   "display_name": "Python 3",
   "language": "python",
   "name": "python3"
  },
  "language_info": {
   "codemirror_mode": {
    "name": "ipython",
    "version": 3
   },
   "file_extension": ".py",
   "mimetype": "text/x-python",
   "name": "python",
   "nbconvert_exporter": "python",
   "pygments_lexer": "ipython3",
   "version": "3.8.5"
  },
  "toc": {
   "base_numbering": 1,
   "nav_menu": {},
   "number_sections": true,
   "sideBar": true,
   "skip_h1_title": false,
   "title_cell": "Table of Contents",
   "title_sidebar": "Contents",
   "toc_cell": false,
   "toc_position": {},
   "toc_section_display": true,
   "toc_window_display": true
  }
 },
 "nbformat": 4,
 "nbformat_minor": 4
}
