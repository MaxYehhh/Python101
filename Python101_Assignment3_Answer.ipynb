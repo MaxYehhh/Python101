{
 "cells": [
  {
   "cell_type": "markdown",
   "metadata": {},
   "source": [
    "<p style=\"font-size:30px;font-weight:bold;margin-top:-0px\">Python 101</p>\n",
    "<p style=\"font-size:25px;font-weight:bold;\">Assignment 3 ─ 基地臺位址選擇</p>\n",
    "<hr style=\"border:1px solid #edf1f2;\" />\n",
    "\n",
    "\n",
    "----\n",
    "Ref：\n",
    "- Course：[用 Python 做商管程式設計（一）(Programming for Business Computing in Python (1))](https://www.coursera.org/learn/pbc1)\n",
    "- Assignment：https://www.coursera.org/learn/pbc1/exam/wkZ6A/di-wu-zhou-zuo-ye-ji-di-tai-wei-zhi-xuan-ze/attempt"
   ]
  },
  {
   "cell_type": "markdown",
   "metadata": {},
   "source": [
    "# 詳解"
   ]
  },
  {
   "cell_type": "markdown",
   "metadata": {},
   "source": [
    "## modules"
   ]
  },
  {
   "cell_type": "code",
   "execution_count": 202,
   "metadata": {
    "code_folding": [
     1
    ]
   },
   "outputs": [],
   "source": [
    "# 計算基地台建立位置\n",
    "def calc_baseStation_position(n, p, d, coordinate_list, population_list):\n",
    "    baseStation_position = []  # 最終輸出要建基地台的城市編號\n",
    "    total_cover_population = 0  # 基地台的總覆蓋人口數\n",
    "    \n",
    "    for calc_cnt in range(p):\n",
    "#         print(f'=========== 尋找第{calc_cnt+1}座基地台位置 ===========')\n",
    "        cover_population_list=[]  # 蓋在各個城市的總覆蓋人口數\n",
    "\n",
    "        # 依序進行各個城市的計算\n",
    "        for idx1 in range(n):\n",
    "#             print(f'City{idx1+1}')\n",
    "#             print('>> 歸零覆蓋人口數')\n",
    "            cover_population = 0\n",
    "\n",
    "            # 計算「目前進行中城市」與「其他所有城市」的距離，進而計算總覆蓋人口數\n",
    "            for idx2 in range(n):\n",
    "                if idx1 == idx2:\n",
    "                    continue\n",
    "                else:\n",
    "                    dst = ((coordinate_list[idx1][0] - coordinate_list[idx2][0]) **2 + \n",
    "                           (coordinate_list[idx1][1] - coordinate_list[idx2][1]) **2\n",
    "                          )**0.5\n",
    "#                     print(f'與 City{idx2+1} 的距離: ', dst)\n",
    "\n",
    "                    if dst <= d:\n",
    "                        cover_population += population_list[idx2]\n",
    "            \n",
    "            # 算進自己的人口數\n",
    "            cover_population += population_list[idx1]\n",
    "            cover_population_list.append(cover_population)\n",
    "#             print(f'City{idx1+1} 總覆蓋人口數：', cover_population)    \n",
    "#             print('------------------------')\n",
    "\n",
    "        # 將計算結果紀錄進 baseStation_position, total_cover_population\n",
    "        city_num = cover_population_list.index(max(cover_population_list)) + 1\n",
    "        baseStation_position.append(city_num)\n",
    "        total_cover_population += max(cover_population_list)\n",
    "\n",
    "\n",
    "        ##### 5. 把 population_list 中已挑選城市的覆蓋人口數歸零\n",
    "        for idx in range(n):\n",
    "            picked_city_idx = cover_population_list.index(max(cover_population_list))\n",
    "            dst = ((coordinate_list[picked_city_idx][0] - coordinate_list[idx][0]) **2 + \n",
    "                   (coordinate_list[picked_city_idx][1] - coordinate_list[idx][1]) **2\n",
    "                  )**0.5\n",
    "            if dst <= d:\n",
    "                population_list[idx] = 0\n",
    "                \n",
    "    return baseStation_position, total_cover_population\n",
    "\n",
    "def get_baseStation_answer():\n",
    "    city_info_input = input('請輸入城市個數(n)、基地台數量(p)、覆蓋半徑(d)、各城市座標以及人口數：')\n",
    "\n",
    "    ##### 1. 先挑出 n, p, d，剩下的 city_info 為城市座標與人口\n",
    "    city_info = city_info_input.split()\n",
    "    n = city_info[0]\n",
    "    p = city_info[1]\n",
    "    d = city_info[2]\n",
    "\n",
    "    for i in [n,p,d]:\n",
    "        city_info.remove(i)\n",
    "    n = int(n)\n",
    "    p = int(p)\n",
    "    d = int(d)\n",
    "\n",
    "    ##### 2. 將每個城市的座標與人口組合在同一個 list 中 -> new_city_info\n",
    "    new_city_info=[]\n",
    "\n",
    "    while True:\n",
    "        city = city_info[:3]\n",
    "        new_city_info.append(city)\n",
    "        del city_info[:3]\n",
    "\n",
    "        if len(city_info) == 0:\n",
    "            break\n",
    "\n",
    "    ##### 3. new_city_info 拆分成「座標」與「人口數」兩個 list\n",
    "    coordinate_list=[]  # 各城市座標\n",
    "    population_list=[]  # 各城市人口數\n",
    "\n",
    "    for idx in range(len(new_city_info)):\n",
    "        population = int(new_city_info[idx].pop())\n",
    "        population_list.append(population)\n",
    "        coordinate_list.append(new_city_info[idx])\n",
    "        coordinate_list[idx][0] = int(coordinate_list[idx][0])\n",
    "        coordinate_list[idx][1] = int(coordinate_list[idx][1])\n",
    "        coordinate_list[idx] = tuple(coordinate_list[idx])\n",
    "\n",
    "\n",
    "    ##### 4. 計算應該蓋在哪裡\n",
    "    baseStation_position, total_cover_population = calc_baseStation_position(n, p, d, \n",
    "                                                                             coordinate_list, population_list)\n",
    "\n",
    "    print(*baseStation_position, total_cover_population)"
   ]
  },
  {
   "cell_type": "markdown",
   "metadata": {},
   "source": [
    "## 執行"
   ]
  },
  {
   "cell_type": "code",
   "execution_count": 205,
   "metadata": {},
   "outputs": [
    {
     "name": "stdout",
     "output_type": "stream",
     "text": [
      "請輸入城市個數(n)、基地台數量(p)、覆蓋半徑(d)、各城市座標以及人口數：8 3 3 3 -2 10 -1 1 15 -1 4 10 3 2 20 4 3 20 -3 -4 25 2 -3 15 0 2 10\n",
      "8 1 6 105\n",
      "CPU times: user 14.6 ms, sys: 11.7 ms, total: 26.4 ms\n",
      "Wall time: 1.92 s\n"
     ]
    }
   ],
   "source": [
    "%%time\n",
    "\n",
    "get_baseStation_answer()"
   ]
  },
  {
   "cell_type": "markdown",
   "metadata": {},
   "source": [
    "# 開發過程"
   ]
  },
  {
   "cell_type": "markdown",
   "metadata": {},
   "source": [
    "## 處理各參數資料"
   ]
  },
  {
   "cell_type": "code",
   "execution_count": 67,
   "metadata": {},
   "outputs": [
    {
     "name": "stdout",
     "output_type": "stream",
     "text": [
      "請輸入城鎮座標與人口數：8 3 3 3 -2 10 -1 1 15 -1 4 10 3 2 20 4 3 20 -3 -4 25 2 -3 15 0 2 10\n"
     ]
    }
   ],
   "source": [
    "city_info_input = input('請輸入城鎮座標與人口數：')"
   ]
  },
  {
   "cell_type": "code",
   "execution_count": 73,
   "metadata": {
    "scrolled": true
   },
   "outputs": [
    {
     "name": "stdout",
     "output_type": "stream",
     "text": [
      "8 3 3\n",
      "['3', '-2', '10', '-1', '1', '15', '-1', '4', '10', '3', '2', '20', '4', '3', '20', '-3', '-4', '25', '2', '-3', '15', '0', '2', '10']\n"
     ]
    }
   ],
   "source": [
    "# 先挑出 n, p, d，剩下的 city_info 為城市座標與人口\n",
    "\n",
    "city_info = city_info_input.split()\n",
    "n = city_info[0]\n",
    "p = city_info[1]\n",
    "d = city_info[2]\n",
    "\n",
    "for i in [n,p,d]:\n",
    "    city_info.remove(i)\n",
    "\n",
    "n = int(n)\n",
    "p = int(p)\n",
    "d = int(d)\n",
    "\n",
    "print(n, p, d)\n",
    "print(city_info)"
   ]
  },
  {
   "cell_type": "code",
   "execution_count": 63,
   "metadata": {},
   "outputs": [
    {
     "name": "stdout",
     "output_type": "stream",
     "text": [
      "[['3', '-2', '10'], ['-1', '1', '15'], ['-1', '4', '10'], ['3', '2', '20'], ['4', '3', '20'], ['-3', '-4', '25'], ['2', '-3', '15'], ['0', '2', '10']]\n"
     ]
    },
    {
     "data": {
      "text/plain": [
       "[]"
      ]
     },
     "execution_count": 63,
     "metadata": {},
     "output_type": "execute_result"
    }
   ],
   "source": [
    "# 將每個城市的座標與人口組合在同一個 list 中 -> new_city_info\n",
    "\n",
    "new_city_info=[]\n",
    "\n",
    "while True:\n",
    "    city = city_info[:3]\n",
    "    new_city_info.append(city)\n",
    "    del city_info[:3]\n",
    "    \n",
    "    if len(city_info) == 0:\n",
    "        break\n",
    "\n",
    "print(new_city_info)\n",
    "city_info"
   ]
  },
  {
   "cell_type": "code",
   "execution_count": 49,
   "metadata": {},
   "outputs": [
    {
     "data": {
      "text/plain": [
       "[[3, -2], [-1, 1], [-1, 4], [3, 2], [4, 3], [-3, -4], [2, -3], [0, 2]]"
      ]
     },
     "execution_count": 49,
     "metadata": {},
     "output_type": "execute_result"
    }
   ],
   "source": [
    "new_city_info"
   ]
  },
  {
   "cell_type": "code",
   "execution_count": 64,
   "metadata": {},
   "outputs": [
    {
     "name": "stdout",
     "output_type": "stream",
     "text": [
      "[(3, -2), (-1, 1), (-1, 4), (3, 2), (4, 3), (-3, -4), (2, -3), (0, 2)]\n",
      "[10, 15, 10, 20, 20, 25, 15, 10]\n"
     ]
    }
   ],
   "source": [
    "# 拆分座標與人口數 list\n",
    "\n",
    "coordinate_list=[]\n",
    "population_list=[]\n",
    "\n",
    "for index in range(len(new_city_info)):\n",
    "    population = int(new_city_info[index].pop())\n",
    "    population_list.append(population)\n",
    "    coordinate_list.append(new_city_info[index])\n",
    "    coordinate_list[index][0] = int(coordinate_list[index][0])\n",
    "    coordinate_list[index][1] = int(coordinate_list[index][1])\n",
    "    coordinate_list[index] = tuple(coordinate_list[index])\n",
    "\n",
    "print(coordinate_list)\n",
    "print(population_list)"
   ]
  },
  {
   "cell_type": "markdown",
   "metadata": {},
   "source": [
    "## 計算應該蓋在哪裡\n",
    "\n",
    "- 依序計算：蓋在 city1 可以覆蓋多少人 -> 蓋在 city2 可以覆蓋多少人 -> ... -> 蓋在 cityN 可以覆蓋多少人"
   ]
  },
  {
   "cell_type": "markdown",
   "metadata": {},
   "source": [
    "### 第一個基地台位置"
   ]
  },
  {
   "cell_type": "code",
   "execution_count": 122,
   "metadata": {
    "scrolled": true
   },
   "outputs": [
    {
     "name": "stdout",
     "output_type": "stream",
     "text": [
      "請輸入城鎮座標與人口數：8 3 3 3 -2 10 -1 1 15 -1 4 10 3 2 20 4 3 20 -3 -4 25 2 -3 15 0 2 10\n",
      "City1\n",
      "歸零覆蓋人口數\n",
      "與 City2的距離:  5.0\n",
      "與 City3的距離:  7.211102550927978\n",
      "與 City4的距離:  4.0\n",
      "與 City5的距離:  5.0990195135927845\n",
      "與 City6的距離:  6.324555320336759\n",
      "與 City7的距離:  1.4142135623730951\n",
      "與 City8的距離:  5.0\n",
      "City1總覆蓋人口： 25\n",
      "========================\n",
      "City2\n",
      "歸零覆蓋人口數\n",
      "與 City1的距離:  5.0\n",
      "與 City3的距離:  3.0\n",
      "與 City4的距離:  4.123105625617661\n",
      "與 City5的距離:  5.385164807134504\n",
      "與 City6的距離:  5.385164807134504\n",
      "與 City7的距離:  5.0\n",
      "與 City8的距離:  1.4142135623730951\n",
      "City2總覆蓋人口： 35\n",
      "========================\n",
      "City3\n",
      "歸零覆蓋人口數\n",
      "與 City1的距離:  7.211102550927978\n",
      "與 City2的距離:  3.0\n",
      "與 City4的距離:  4.47213595499958\n",
      "與 City5的距離:  5.0990195135927845\n",
      "與 City6的距離:  8.246211251235321\n",
      "與 City7的距離:  7.615773105863909\n",
      "與 City8的距離:  2.23606797749979\n",
      "City3總覆蓋人口： 35\n",
      "========================\n",
      "City4\n",
      "歸零覆蓋人口數\n",
      "與 City1的距離:  4.0\n",
      "與 City2的距離:  4.123105625617661\n",
      "與 City3的距離:  4.47213595499958\n",
      "與 City5的距離:  1.4142135623730951\n",
      "與 City6的距離:  8.48528137423857\n",
      "與 City7的距離:  5.0990195135927845\n",
      "與 City8的距離:  3.0\n",
      "City4總覆蓋人口： 50\n",
      "========================\n",
      "City5\n",
      "歸零覆蓋人口數\n",
      "與 City1的距離:  5.0990195135927845\n",
      "與 City2的距離:  5.385164807134504\n",
      "與 City3的距離:  5.0990195135927845\n",
      "與 City4的距離:  1.4142135623730951\n",
      "與 City6的距離:  9.899494936611665\n",
      "與 City7的距離:  6.324555320336759\n",
      "與 City8的距離:  4.123105625617661\n",
      "City5總覆蓋人口： 40\n",
      "========================\n",
      "City6\n",
      "歸零覆蓋人口數\n",
      "與 City1的距離:  6.324555320336759\n",
      "與 City2的距離:  5.385164807134504\n",
      "與 City3的距離:  8.246211251235321\n",
      "與 City4的距離:  8.48528137423857\n",
      "與 City5的距離:  9.899494936611665\n",
      "與 City7的距離:  5.0990195135927845\n",
      "與 City8的距離:  6.708203932499369\n",
      "City6總覆蓋人口： 25\n",
      "========================\n",
      "City7\n",
      "歸零覆蓋人口數\n",
      "與 City1的距離:  1.4142135623730951\n",
      "與 City2的距離:  5.0\n",
      "與 City3的距離:  7.615773105863909\n",
      "與 City4的距離:  5.0990195135927845\n",
      "與 City5的距離:  6.324555320336759\n",
      "與 City6的距離:  5.0990195135927845\n",
      "與 City8的距離:  5.385164807134504\n",
      "City7總覆蓋人口： 25\n",
      "========================\n",
      "City8\n",
      "歸零覆蓋人口數\n",
      "與 City1的距離:  5.0\n",
      "與 City2的距離:  1.4142135623730951\n",
      "與 City3的距離:  2.23606797749979\n",
      "與 City4的距離:  3.0\n",
      "與 City5的距離:  4.123105625617661\n",
      "與 City6的距離:  6.708203932499369\n",
      "與 City7的距離:  5.385164807134504\n",
      "City8總覆蓋人口： 55\n",
      "========================\n"
     ]
    }
   ],
   "source": [
    "city_info_input = input('請輸入城鎮座標與人口數：')\n",
    "\n",
    "baseStation_position=[]\n",
    "total_cover_population=[]\n",
    "\n",
    "##### 1. 先挑出 n, p, d，剩下的 city_info 為城市座標與人口\n",
    "city_info = city_info_input.split()\n",
    "n = city_info[0]\n",
    "p = city_info[1]\n",
    "d = city_info[2]\n",
    "\n",
    "for i in [n,p,d]:\n",
    "    city_info.remove(i)\n",
    "n = int(n)\n",
    "p = int(p)\n",
    "d = int(d)\n",
    "\n",
    "##### 2. 將每個城市的座標與人口組合在同一個 list 中 -> new_city_info\n",
    "new_city_info=[]\n",
    "\n",
    "while True:\n",
    "    city = city_info[:3]\n",
    "    new_city_info.append(city)\n",
    "    del city_info[:3]\n",
    "    \n",
    "    if len(city_info) == 0:\n",
    "        break\n",
    "\n",
    "##### 3. 拆分座標與人口數 list\n",
    "coordinate_list=[]\n",
    "population_list=[]\n",
    "\n",
    "for index in range(len(new_city_info)):\n",
    "    population = int(new_city_info[index].pop())\n",
    "    population_list.append(population)\n",
    "    coordinate_list.append(new_city_info[index])\n",
    "    coordinate_list[index][0] = int(coordinate_list[index][0])\n",
    "    coordinate_list[index][1] = int(coordinate_list[index][1])\n",
    "    coordinate_list[index] = tuple(coordinate_list[index])\n",
    "        \n",
    "##### 4. 計算應該蓋在哪裡        \n",
    "cover_population_list=[]\n",
    "\n",
    "# 依序進行各個城市的計算\n",
    "for idx1 in range(len(coordinate_list)):\n",
    "    print(f'City{idx1+1}')\n",
    "    \n",
    "    # 歸零總覆蓋人口數\n",
    "    print('歸零覆蓋人口數')\n",
    "    cover_population = 0\n",
    "    \n",
    "    # 計算「目前進行中城市」與「其他所有城市」的距離，進而計算總覆蓋人口數\n",
    "    for idx2 in range(len(coordinate_list)):\n",
    "        if idx1 == idx2:\n",
    "            continue\n",
    "        else:\n",
    "            dst = ((coordinate_list[idx1][0] - coordinate_list[idx2][0]) **2 + \n",
    "                   (coordinate_list[idx1][1] - coordinate_list[idx2][1]) **2\n",
    "                  )**0.5\n",
    "            print(f'與 City{idx2+1}的距離: ', dst)\n",
    "\n",
    "            if dst <= d:\n",
    "                cover_population += population_list[idx2]\n",
    "    # 算進自己的人口數\n",
    "    cover_population += population_list[idx1]\n",
    "    cover_population_list.append(cover_population)\n",
    "    print(f'City{idx1+1}總覆蓋人口：', cover_population)    \n",
    "    print('========================')"
   ]
  },
  {
   "cell_type": "code",
   "execution_count": 123,
   "metadata": {},
   "outputs": [
    {
     "data": {
      "text/plain": [
       "[25, 35, 35, 50, 40, 25, 25, 55]"
      ]
     },
     "execution_count": 123,
     "metadata": {},
     "output_type": "execute_result"
    }
   ],
   "source": [
    "cover_population_list"
   ]
  },
  {
   "cell_type": "markdown",
   "metadata": {},
   "source": [
    "**Total 計算**"
   ]
  },
  {
   "cell_type": "code",
   "execution_count": 134,
   "metadata": {},
   "outputs": [
    {
     "data": {
      "text/plain": [
       "([8, 1, 6], [55, 25, 25])"
      ]
     },
     "execution_count": 134,
     "metadata": {},
     "output_type": "execute_result"
    }
   ],
   "source": [
    "city_num = cover_population_list.index(max(cover_population_list)) + 1\n",
    "baseStation_position.append(city_num)\n",
    "total_cover_population.append(max(cover_population_list))\n",
    "\n",
    "baseStation_position, total_cover_population"
   ]
  },
  {
   "cell_type": "code",
   "execution_count": 138,
   "metadata": {},
   "outputs": [
    {
     "data": {
      "text/plain": [
       "105"
      ]
     },
     "execution_count": 138,
     "metadata": {},
     "output_type": "execute_result"
    }
   ],
   "source": [
    "population_sum = 0\n",
    "\n",
    "for population in total_cover_population:\n",
    "    population_sum += population\n",
    "\n",
    "population_sum"
   ]
  },
  {
   "cell_type": "code",
   "execution_count": 152,
   "metadata": {},
   "outputs": [
    {
     "name": "stdout",
     "output_type": "stream",
     "text": [
      "8 1 6 105\n"
     ]
    }
   ],
   "source": [
    "print(*baseStation_position, population_sum)"
   ]
  },
  {
   "cell_type": "markdown",
   "metadata": {},
   "source": [
    "### 下一個基地台位置"
   ]
  },
  {
   "cell_type": "code",
   "execution_count": 130,
   "metadata": {},
   "outputs": [],
   "source": [
    "# 把 population_list 中已挑選城市的覆蓋人口數歸零\n",
    "\n",
    "for idx in range(len(coordinate_list)):\n",
    "    picked_city_idx = cover_population_list.index(max(cover_population_list))\n",
    "    dst = ((coordinate_list[picked_city_idx][0] - coordinate_list[idx][0]) **2 + \n",
    "           (coordinate_list[picked_city_idx][1] - coordinate_list[idx][1]) **2\n",
    "          )**0.5\n",
    "    \n",
    "    if dst <= d:\n",
    "        population_list[idx] = 0"
   ]
  },
  {
   "cell_type": "code",
   "execution_count": 131,
   "metadata": {},
   "outputs": [
    {
     "data": {
      "text/plain": [
       "[0, 0, 0, 0, 20, 25, 0, 0]"
      ]
     },
     "execution_count": 131,
     "metadata": {},
     "output_type": "execute_result"
    }
   ],
   "source": [
    "population_list"
   ]
  },
  {
   "cell_type": "code",
   "execution_count": 132,
   "metadata": {
    "scrolled": true
   },
   "outputs": [
    {
     "name": "stdout",
     "output_type": "stream",
     "text": [
      "City1\n",
      "歸零覆蓋人口數\n",
      "與 City2的距離:  5.0\n",
      "與 City3的距離:  7.211102550927978\n",
      "與 City4的距離:  4.0\n",
      "與 City5的距離:  5.0990195135927845\n",
      "與 City6的距離:  6.324555320336759\n",
      "與 City7的距離:  1.4142135623730951\n",
      "與 City8的距離:  5.0\n",
      "City1總覆蓋人口： 0\n",
      "========================\n",
      "City2\n",
      "歸零覆蓋人口數\n",
      "與 City1的距離:  5.0\n",
      "與 City3的距離:  3.0\n",
      "與 City4的距離:  4.123105625617661\n",
      "與 City5的距離:  5.385164807134504\n",
      "與 City6的距離:  5.385164807134504\n",
      "與 City7的距離:  5.0\n",
      "與 City8的距離:  1.4142135623730951\n",
      "City2總覆蓋人口： 0\n",
      "========================\n",
      "City3\n",
      "歸零覆蓋人口數\n",
      "與 City1的距離:  7.211102550927978\n",
      "與 City2的距離:  3.0\n",
      "與 City4的距離:  4.47213595499958\n",
      "與 City5的距離:  5.0990195135927845\n",
      "與 City6的距離:  8.246211251235321\n",
      "與 City7的距離:  7.615773105863909\n",
      "與 City8的距離:  2.23606797749979\n",
      "City3總覆蓋人口： 0\n",
      "========================\n",
      "City4\n",
      "歸零覆蓋人口數\n",
      "與 City1的距離:  4.0\n",
      "與 City2的距離:  4.123105625617661\n",
      "與 City3的距離:  4.47213595499958\n",
      "與 City5的距離:  1.4142135623730951\n",
      "與 City6的距離:  8.48528137423857\n",
      "與 City7的距離:  5.0990195135927845\n",
      "與 City8的距離:  3.0\n",
      "City4總覆蓋人口： 20\n",
      "========================\n",
      "City5\n",
      "歸零覆蓋人口數\n",
      "與 City1的距離:  5.0990195135927845\n",
      "與 City2的距離:  5.385164807134504\n",
      "與 City3的距離:  5.0990195135927845\n",
      "與 City4的距離:  1.4142135623730951\n",
      "與 City6的距離:  9.899494936611665\n",
      "與 City7的距離:  6.324555320336759\n",
      "與 City8的距離:  4.123105625617661\n",
      "City5總覆蓋人口： 20\n",
      "========================\n",
      "City6\n",
      "歸零覆蓋人口數\n",
      "與 City1的距離:  6.324555320336759\n",
      "與 City2的距離:  5.385164807134504\n",
      "與 City3的距離:  8.246211251235321\n",
      "與 City4的距離:  8.48528137423857\n",
      "與 City5的距離:  9.899494936611665\n",
      "與 City7的距離:  5.0990195135927845\n",
      "與 City8的距離:  6.708203932499369\n",
      "City6總覆蓋人口： 25\n",
      "========================\n",
      "City7\n",
      "歸零覆蓋人口數\n",
      "與 City1的距離:  1.4142135623730951\n",
      "與 City2的距離:  5.0\n",
      "與 City3的距離:  7.615773105863909\n",
      "與 City4的距離:  5.0990195135927845\n",
      "與 City5的距離:  6.324555320336759\n",
      "與 City6的距離:  5.0990195135927845\n",
      "與 City8的距離:  5.385164807134504\n",
      "City7總覆蓋人口： 0\n",
      "========================\n",
      "City8\n",
      "歸零覆蓋人口數\n",
      "與 City1的距離:  5.0\n",
      "與 City2的距離:  1.4142135623730951\n",
      "與 City3的距離:  2.23606797749979\n",
      "與 City4的距離:  3.0\n",
      "與 City5的距離:  4.123105625617661\n",
      "與 City6的距離:  6.708203932499369\n",
      "與 City7的距離:  5.385164807134504\n",
      "City8總覆蓋人口： 0\n",
      "========================\n"
     ]
    }
   ],
   "source": [
    "##### 4. 計算應該蓋在哪裡        \n",
    "cover_population_list=[]\n",
    "\n",
    "# 依序進行各個城市的計算\n",
    "for idx1 in range(len(coordinate_list)):\n",
    "    print(f'City{idx1+1}')\n",
    "    \n",
    "    # 歸零總覆蓋人口數\n",
    "    print('歸零覆蓋人口數')\n",
    "    cover_population = 0\n",
    "    \n",
    "    # 計算「目前進行中城市」與「其他所有城市」的距離，進而計算總覆蓋人口數\n",
    "    for idx2 in range(len(coordinate_list)):\n",
    "        if idx1 == idx2:\n",
    "            continue\n",
    "        else:\n",
    "            dst = ((coordinate_list[idx1][0] - coordinate_list[idx2][0]) **2 + \n",
    "                   (coordinate_list[idx1][1] - coordinate_list[idx2][1]) **2\n",
    "                  )**0.5\n",
    "            print(f'與 City{idx2+1}的距離: ', dst)\n",
    "\n",
    "            if dst <= d:\n",
    "                cover_population += population_list[idx2]\n",
    "    # 算進自己的人口數\n",
    "    cover_population += population_list[idx1]\n",
    "    cover_population_list.append(cover_population)\n",
    "    print(f'City{idx1+1}總覆蓋人口：', cover_population)    \n",
    "    print('========================')"
   ]
  },
  {
   "cell_type": "code",
   "execution_count": 133,
   "metadata": {},
   "outputs": [
    {
     "data": {
      "text/plain": [
       "5"
      ]
     },
     "execution_count": 133,
     "metadata": {},
     "output_type": "execute_result"
    }
   ],
   "source": [
    "cover_population_list.index(max(cover_population_list))"
   ]
  }
 ],
 "metadata": {
  "kernelspec": {
   "display_name": "Python 3",
   "language": "python",
   "name": "python3"
  },
  "language_info": {
   "codemirror_mode": {
    "name": "ipython",
    "version": 3
   },
   "file_extension": ".py",
   "mimetype": "text/x-python",
   "name": "python",
   "nbconvert_exporter": "python",
   "pygments_lexer": "ipython3",
   "version": "3.8.5"
  },
  "toc": {
   "base_numbering": 1,
   "nav_menu": {},
   "number_sections": true,
   "sideBar": true,
   "skip_h1_title": false,
   "title_cell": "Table of Contents",
   "title_sidebar": "Contents",
   "toc_cell": false,
   "toc_position": {
    "height": "calc(100% - 180px)",
    "left": "10px",
    "top": "150px",
    "width": "270.469px"
   },
   "toc_section_display": true,
   "toc_window_display": true
  }
 },
 "nbformat": 4,
 "nbformat_minor": 4
}
