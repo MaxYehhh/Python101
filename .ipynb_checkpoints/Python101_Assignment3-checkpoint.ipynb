{
 "cells": [
  {
   "cell_type": "markdown",
   "metadata": {},
   "source": [
    "<p style=\"font-size:30px;font-weight:bold;margin-top:-0px\">Python 101</p>\n",
    "<p style=\"font-size:25px;font-weight:bold;\">Assignment 3 ─ 基地臺位址選擇</p>\n",
    "<hr style=\"border:1px solid #edf1f2;\" />\n",
    "\n",
    "- n 個城市中挑 p 個城市設立基地台，可以覆蓋最多人口數；而基地台覆蓋半徑為 d。\n",
    "    - 如果在任一時刻遇到有兩個以上的城鎮可以被選，就選編號較小的那個。\n",
    "- Input：直接全選複製題目輸入參數\n",
    "- Output：依照選擇的先後順序由先而後印出這些城鎮的編號，最後輸出被覆蓋的總人數。\n",
    "    - Ex: 8 1 6 105\n",
    "\n",
    "----\n",
    "Ref：\n",
    "- Course：[用 Python 做商管程式設計（一）(Programming for Business Computing in Python (1))](https://www.coursera.org/learn/pbc1)\n",
    "- Assignment：https://www.coursera.org/learn/pbc1/exam/wkZ6A/di-wu-zhou-zuo-ye-ji-di-tai-wei-zhi-xuan-ze/attempt"
   ]
  },
  {
   "cell_type": "markdown",
   "metadata": {},
   "source": [
    "# 請作答！"
   ]
  },
  {
   "cell_type": "code",
   "execution_count": null,
   "metadata": {},
   "outputs": [],
   "source": []
  }
 ],
 "metadata": {
  "kernelspec": {
   "display_name": "Python 3",
   "language": "python",
   "name": "python3"
  },
  "language_info": {
   "codemirror_mode": {
    "name": "ipython",
    "version": 3
   },
   "file_extension": ".py",
   "mimetype": "text/x-python",
   "name": "python",
   "nbconvert_exporter": "python",
   "pygments_lexer": "ipython3",
   "version": "3.8.5"
  },
  "toc": {
   "base_numbering": 1,
   "nav_menu": {},
   "number_sections": true,
   "sideBar": true,
   "skip_h1_title": false,
   "title_cell": "Table of Contents",
   "title_sidebar": "Contents",
   "toc_cell": false,
   "toc_position": {
    "height": "calc(100% - 180px)",
    "left": "10px",
    "top": "150px",
    "width": "270.469px"
   },
   "toc_section_display": true,
   "toc_window_display": true
  }
 },
 "nbformat": 4,
 "nbformat_minor": 4
}
