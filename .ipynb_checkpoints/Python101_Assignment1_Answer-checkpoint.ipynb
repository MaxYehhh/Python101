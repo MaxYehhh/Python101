{
 "cells": [
  {
   "cell_type": "markdown",
   "metadata": {},
   "source": [
    "<p style=\"font-size:30px;font-weight:bold;margin-top:-0px\">Python 101</p>\n",
    "<p style=\"font-size:25px;font-weight:bold;\">Assignment 1 ─ 該怎麼找錢？</p>\n",
    "<hr style=\"border:1px solid #edf1f2;\" />\n",
    "\n",
    "\n",
    "> **題目敘述**\n",
    ">\n",
    "> 如果你在一家零售店幫消費的客人結帳，你可能需要快速地挑出合適且數量正確的鈔票與零錢。\n",
    ">\n",
    "> 假設客人的消費金額 a（a 一定是 1 到 1000 之間的整數），而你有無限量的 500、100、50、10、5、1。這些面額的鈔票和零錢，我們希望你能依照下面的規則找錢：\n",
    ">1. 你找的錢的總額要是 1000 - a。\n",
    ">2. 與其給客人五張 100 元，不如給他一張 500 元；與其給客人兩個 50 元，不如給他一張 100 元，依此類推。\n",
    "\n",
    "> **以下是一些範例**\n",
    ">- 如果客人消費 200 元，你應該找給他 1 張 500 元和 3 張 100 元。\n",
    ">- 如果客人消費 286 元，你應該找給他 1 張 500 元、2 張 100 元、1 個 10 元和 4 個一元。\n",
    ">- 如果客人消費 925 元，你應該找給他 1 個 50 元、2 個 10 元和 1 個 5 元。\n",
    "\n",
    "> **在本題中，請您透過程式，設計成可以輸入消費金額，並隨即輸出各張面額鈔票的找錢張數，需符合上述規則的唯一找錢方式。**\n",
    ">\n",
    "> 參考輸出形式：\n",
    ">- 輸入\n",
    "    - 請輸入消費金額：286\n",
    ">- 輸出\n",
    "    - 500： 1\n",
    "    - 100： 2\n",
    "    - 50： 0\n",
    "    - 10： 1\n",
    "    - 5： 0\n",
    "    - 1： 4\n",
    "\n",
    "----\n",
    "Ref：\n",
    "- Course：[用 Python 做商管程式設計（一）(Programming for Business Computing in Python (1))](https://www.coursera.org/learn/pbc1)\n",
    "- Assignment：https://www.coursera.org/learn/pbc1/exam/PW8fi/di-er-zhou-zuo-ye-gai-zen-mo-zhao-qian/attempt"
   ]
  },
  {
   "cell_type": "markdown",
   "metadata": {},
   "source": [
    "# Example: 消費金額 = $286"
   ]
  },
  {
   "cell_type": "code",
   "execution_count": 6,
   "metadata": {},
   "outputs": [
    {
     "name": "stdout",
     "output_type": "stream",
     "text": [
      "請輸入消費金額：286\n",
      "500： 1\n",
      "100： 2\n",
      "50： 0\n",
      "10： 1\n",
      "5： 0\n",
      "1： 4\n"
     ]
    }
   ],
   "source": [
    "expense = int(input('請輸入消費金額：'))\n",
    "change = 1000 - expense\n",
    "a = change // 500\n",
    "b = (change - 500*a) // 100\n",
    "c = (change - 500*a - 100*b) // 50\n",
    "d = (change - 500*a - 100*b - 50*c) // 10\n",
    "e = (change - 500*a - 100*b - 50*c - 10*d) // 5\n",
    "f = (change - 500*a - 100*b - 50*c - 10*d - 5*e) // 1\n",
    "\n",
    "print('500：', a)\n",
    "print('100：', b)\n",
    "print('50：', c)\n",
    "print('10：', d)\n",
    "print('5：', e)\n",
    "print('1：', f)"
   ]
  },
  {
   "cell_type": "markdown",
   "metadata": {},
   "source": [
    "# Q1: 消費金額 = $100"
   ]
  },
  {
   "cell_type": "code",
   "execution_count": 1,
   "metadata": {},
   "outputs": [
    {
     "name": "stdout",
     "output_type": "stream",
     "text": [
      "請輸入消費金額：100\n",
      "500： 1\n",
      "100： 4\n",
      "50： 0\n",
      "10： 0\n",
      "5： 0\n",
      "1： 0\n"
     ]
    }
   ],
   "source": [
    "expense = int(input('請輸入消費金額：'))\n",
    "change = 1000 - expense\n",
    "a = change // 500\n",
    "b = (change - 500*a) // 100\n",
    "c = (change - 500*a - 100*b) // 50\n",
    "d = (change - 500*a - 100*b - 50*c) // 10\n",
    "e = (change - 500*a - 100*b - 50*c - 10*d) // 5\n",
    "f = (change - 500*a - 100*b - 50*c - 10*d - 5*e) // 1\n",
    "\n",
    "print('500：', a)\n",
    "print('100：', b)\n",
    "print('50：', c)\n",
    "print('10：', d)\n",
    "print('5：', e)\n",
    "print('1：', f)"
   ]
  },
  {
   "cell_type": "markdown",
   "metadata": {},
   "source": [
    "# Q2: 消費金額 = $148"
   ]
  },
  {
   "cell_type": "code",
   "execution_count": 2,
   "metadata": {},
   "outputs": [
    {
     "name": "stdout",
     "output_type": "stream",
     "text": [
      "請輸入消費金額：148\n",
      "500： 1\n",
      "100： 3\n",
      "50： 1\n",
      "10： 0\n",
      "5： 0\n",
      "1： 2\n"
     ]
    }
   ],
   "source": [
    "expense = int(input('請輸入消費金額：'))\n",
    "change = 1000 - expense\n",
    "a = change // 500\n",
    "b = (change - 500*a) // 100\n",
    "c = (change - 500*a - 100*b) // 50\n",
    "d = (change - 500*a - 100*b - 50*c) // 10\n",
    "e = (change - 500*a - 100*b - 50*c - 10*d) // 5\n",
    "f = (change - 500*a - 100*b - 50*c - 10*d - 5*e) // 1\n",
    "\n",
    "print('500：', a)\n",
    "print('100：', b)\n",
    "print('50：', c)\n",
    "print('10：', d)\n",
    "print('5：', e)\n",
    "print('1：', f)"
   ]
  },
  {
   "cell_type": "markdown",
   "metadata": {},
   "source": [
    "# Q3: 消費金額 = $780"
   ]
  },
  {
   "cell_type": "code",
   "execution_count": 3,
   "metadata": {},
   "outputs": [
    {
     "name": "stdout",
     "output_type": "stream",
     "text": [
      "請輸入消費金額：780\n",
      "500： 0\n",
      "100： 2\n",
      "50： 0\n",
      "10： 2\n",
      "5： 0\n",
      "1： 0\n"
     ]
    }
   ],
   "source": [
    "expense = int(input('請輸入消費金額：'))\n",
    "change = 1000 - expense\n",
    "a = change // 500\n",
    "b = (change - 500*a) // 100\n",
    "c = (change - 500*a - 100*b) // 50\n",
    "d = (change - 500*a - 100*b - 50*c) // 10\n",
    "e = (change - 500*a - 100*b - 50*c - 10*d) // 5\n",
    "f = (change - 500*a - 100*b - 50*c - 10*d - 5*e) // 1\n",
    "\n",
    "print('500：', a)\n",
    "print('100：', b)\n",
    "print('50：', c)\n",
    "print('10：', d)\n",
    "print('5：', e)\n",
    "print('1：', f)"
   ]
  },
  {
   "cell_type": "markdown",
   "metadata": {},
   "source": [
    "# Q4: 消費金額 = $1"
   ]
  },
  {
   "cell_type": "code",
   "execution_count": 4,
   "metadata": {},
   "outputs": [
    {
     "name": "stdout",
     "output_type": "stream",
     "text": [
      "請輸入消費金額：1\n",
      "500： 1\n",
      "100： 4\n",
      "50： 1\n",
      "10： 4\n",
      "5： 1\n",
      "1： 4\n"
     ]
    }
   ],
   "source": [
    "expense = int(input('請輸入消費金額：'))\n",
    "change = 1000 - expense\n",
    "a = change // 500\n",
    "b = (change - 500*a) // 100\n",
    "c = (change - 500*a - 100*b) // 50\n",
    "d = (change - 500*a - 100*b - 50*c) // 10\n",
    "e = (change - 500*a - 100*b - 50*c - 10*d) // 5\n",
    "f = (change - 500*a - 100*b - 50*c - 10*d - 5*e) // 1\n",
    "\n",
    "print('500：', a)\n",
    "print('100：', b)\n",
    "print('50：', c)\n",
    "print('10：', d)\n",
    "print('5：', e)\n",
    "print('1：', f)"
   ]
  },
  {
   "cell_type": "markdown",
   "metadata": {},
   "source": [
    "# Q5: 消費金額 = $1000"
   ]
  },
  {
   "cell_type": "code",
   "execution_count": 5,
   "metadata": {},
   "outputs": [
    {
     "name": "stdout",
     "output_type": "stream",
     "text": [
      "請輸入消費金額：1000\n",
      "500： 0\n",
      "100： 0\n",
      "50： 0\n",
      "10： 0\n",
      "5： 0\n",
      "1： 0\n"
     ]
    }
   ],
   "source": [
    "expense = int(input('請輸入消費金額：'))\n",
    "change = 1000 - expense\n",
    "a = change // 500\n",
    "b = (change - 500*a) // 100\n",
    "c = (change - 500*a - 100*b) // 50\n",
    "d = (change - 500*a - 100*b - 50*c) // 10\n",
    "e = (change - 500*a - 100*b - 50*c - 10*d) // 5\n",
    "f = (change - 500*a - 100*b - 50*c - 10*d - 5*e) // 1\n",
    "\n",
    "print('500：', a)\n",
    "print('100：', b)\n",
    "print('50：', c)\n",
    "print('10：', d)\n",
    "print('5：', e)\n",
    "print('1：', f)"
   ]
  }
 ],
 "metadata": {
  "kernelspec": {
   "display_name": "Python 3",
   "language": "python",
   "name": "python3"
  },
  "language_info": {
   "codemirror_mode": {
    "name": "ipython",
    "version": 3
   },
   "file_extension": ".py",
   "mimetype": "text/x-python",
   "name": "python",
   "nbconvert_exporter": "python",
   "pygments_lexer": "ipython3",
   "version": "3.8.5"
  },
  "toc": {
   "base_numbering": 1,
   "nav_menu": {},
   "number_sections": true,
   "sideBar": true,
   "skip_h1_title": false,
   "title_cell": "Table of Contents",
   "title_sidebar": "Contents",
   "toc_cell": false,
   "toc_position": {},
   "toc_section_display": true,
   "toc_window_display": true
  }
 },
 "nbformat": 4,
 "nbformat_minor": 5
}
