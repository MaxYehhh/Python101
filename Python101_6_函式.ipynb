{
 "cells": [
  {
   "cell_type": "markdown",
   "id": "f619420d",
   "metadata": {},
   "source": [
    "<p style=\"font-size:30px;font-weight:bold;margin-top:-0px\">Python 101</p>\n",
    "<p style=\"font-size:25px;font-weight:bold;\">函式（Functions）</p>\n",
    "<hr style=\"border:1px solid #edf1f2;\" />"
   ]
  },
  {
   "cell_type": "markdown",
   "id": "50fbd8e4",
   "metadata": {},
   "source": [
    "# 函式基本說明\n",
    "\n",
    "- 在寫程式碼時應避免同樣的程式碼重複出現在很多個地方，除了可讀性很低外，也不易維護。所以要適當的進行封裝，來達到程式碼的重用性。\n",
    "- 建構函式(Function)，就是能夠讓你的程式碼被重複的使用，並且提高維護性及可讀性。\n",
    "- Input → Function → Output\n",
    "- 就像一台機器，給他需要的材料，經過處理後，輸出你需要的東西。\n",
    "- Ref：[[Python教學]5個必知的Python Function觀念整理](https://www.learncodewithmike.com/2019/12/python-function.html)\n",
    "\n",
    "**語法架構**\n",
    "<pre style=\"background-color:#FFF4C1\">\n",
    "<B>def</B> 函數名稱(參數1, 參數2):\n",
    "  函數工作\n",
    "</pre>"
   ]
  },
  {
   "cell_type": "markdown",
   "id": "3f5f714a",
   "metadata": {},
   "source": [
    "# 不吃參數的 function"
   ]
  },
  {
   "cell_type": "code",
   "execution_count": 1,
   "id": "a7bb75fe",
   "metadata": {},
   "outputs": [
    {
     "name": "stdout",
     "output_type": "stream",
     "text": [
      "Hello!\n"
     ]
    }
   ],
   "source": [
    "def greeting():\n",
    "    print('Hello!')\n",
    "    \n",
    "greeting()"
   ]
  },
  {
   "cell_type": "markdown",
   "id": "281dfeb8",
   "metadata": {},
   "source": [
    "# 吃參數的 function\n",
    "> 參數設定\n",
    ">1. 無預設參數\n",
    ">2. 有預設參數\n",
    "    - 預設參數須放在後方。\n",
    "\n",
    "> 輸入參數\n",
    ">- 須注意順序，或是明確指定參數。\n",
    ">- 預設參數可不賦值。\n",
    ">- 預設參數可更改。"
   ]
  },
  {
   "cell_type": "code",
   "execution_count": 2,
   "id": "30798f9d",
   "metadata": {},
   "outputs": [
    {
     "name": "stdout",
     "output_type": "stream",
     "text": [
      "Hi~~Max\n"
     ]
    }
   ],
   "source": [
    "# 無預設參數\n",
    "\n",
    "def welcome_msg(name, msg):\n",
    "    print(msg + name)\n",
    "\n",
    "welcome_msg('Max', 'Hi~~')"
   ]
  },
  {
   "cell_type": "code",
   "execution_count": 4,
   "id": "b1ae897d",
   "metadata": {},
   "outputs": [
    {
     "name": "stdout",
     "output_type": "stream",
     "text": [
      "Hello~~Max\n",
      "嗨Max\n"
     ]
    }
   ],
   "source": [
    "# 有預設參數\n",
    "\n",
    "def welcome_msg2(name, msg='Hello~~'):\n",
    "    print(msg + name)\n",
    "    \n",
    "welcome_msg2('Max')  # 預設參數可不賦值\n",
    "welcome_msg2('Max', '嗨')  # 預設參數也可以更改"
   ]
  },
  {
   "cell_type": "code",
   "execution_count": 8,
   "id": "7885d5c0",
   "metadata": {},
   "outputs": [
    {
     "name": "stdout",
     "output_type": "stream",
     "text": [
      "name:  Max\n",
      "gender:  male\n",
      "age:  18\n",
      "=========================\n",
      "name:  Max\n",
      "gender:  18\n",
      "age:  male\n",
      "=========================\n",
      "name:  Max\n",
      "gender:  male\n",
      "age:  18\n"
     ]
    }
   ],
   "source": [
    "# 注意輸入參數是有順序性的\n",
    "\n",
    "def info(name, gender, age):\n",
    "    print('name: ', name)\n",
    "    print('gender: ', gender)\n",
    "    print('age: ', age)\n",
    "\n",
    "    \n",
    "info('Max', 'male', 18)  # 按照順序來\n",
    "\n",
    "print('=========================')\n",
    "\n",
    "info('Max', 18, 'male')  # 這樣就不行\n",
    "\n",
    "print('=========================')\n",
    "\n",
    "info(name='Max', age=18, gender='male')  # 不照順序就明確指定"
   ]
  },
  {
   "cell_type": "markdown",
   "id": "64813d8f",
   "metadata": {},
   "source": [
    "# \\*args、\\**kwargs 運算子\n",
    "\n",
    "> **\\*args**\n",
    ">- 利用 * 進行 tuple / list 參數引入。\n",
    "\n",
    "> ****kwargs運算子**\n",
    ">- 利用 ** 進行 dict 參數引入。"
   ]
  },
  {
   "cell_type": "markdown",
   "id": "700344be",
   "metadata": {},
   "source": [
    "## 特別參數引入方式"
   ]
  },
  {
   "cell_type": "code",
   "execution_count": 9,
   "id": "fe926063",
   "metadata": {},
   "outputs": [],
   "source": [
    "def print_your_info(ur_name, ur_age, ur_gender):\n",
    "    print(\"your name  : \", ur_name)\n",
    "    print(\"your age   : \", ur_age)\n",
    "    print(\"your gender: \", ur_gender)"
   ]
  },
  {
   "cell_type": "code",
   "execution_count": 13,
   "id": "3942b7c2",
   "metadata": {},
   "outputs": [
    {
     "name": "stdout",
     "output_type": "stream",
     "text": [
      "your name  :  Max\n",
      "your age   :  18\n",
      "your gender:  male\n"
     ]
    }
   ],
   "source": [
    "# 利用 * 進行 tuple / list 參數引入\n",
    "\n",
    "my_info_list = ['Max', 18, 'male']  # 以 tuple ('Max', 18, 'male') 也是行的\n",
    "print_your_info(*my_info_list)"
   ]
  },
  {
   "cell_type": "code",
   "execution_count": 12,
   "id": "9f1154ca",
   "metadata": {
    "scrolled": true
   },
   "outputs": [
    {
     "name": "stdout",
     "output_type": "stream",
     "text": [
      "your name  :  Max\n",
      "your age   :  18\n",
      "your gender:  male\n"
     ]
    }
   ],
   "source": [
    "# 利用 ** 進行 dict 參數引入\n",
    "\n",
    "my_info_dict = {'ur_name': 'Max', 'ur_age': 18, 'ur_gender': 'male'}\n",
    "print_your_info(**my_info_dict)"
   ]
  },
  {
   "cell_type": "markdown",
   "id": "8430d665",
   "metadata": {},
   "source": [
    "## 不定數量參數 function\n",
    "- 以上為參數的引入，以下我們用一樣的手法來進行參數設定。"
   ]
  },
  {
   "cell_type": "code",
   "execution_count": 18,
   "id": "218295a4",
   "metadata": {},
   "outputs": [
    {
     "name": "stdout",
     "output_type": "stream",
     "text": [
      "Hi,  Max\n",
      "Hi,  Michelle\n",
      "Hi,  Elaine\n",
      "<class 'tuple'>\n"
     ]
    }
   ],
   "source": [
    "def greeting(*names):\n",
    "    for name in names:\n",
    "        print('Hi, ', name)\n",
    "    print(type(names))\n",
    "\n",
    "greeting('Max', 'Michelle', 'Elaine')"
   ]
  },
  {
   "cell_type": "code",
   "execution_count": 16,
   "id": "3395f7ae",
   "metadata": {},
   "outputs": [
    {
     "name": "stdout",
     "output_type": "stream",
     "text": [
      "{'name': 'Max', 'gender': 'male', 'score': 98}\n",
      "<class 'dict'>\n"
     ]
    }
   ],
   "source": [
    "def student_info(**info):\n",
    "    print(info)\n",
    "    print(type(info))\n",
    "    \n",
    "student_info(name='Max', gender='male', score=98)"
   ]
  },
  {
   "cell_type": "markdown",
   "id": "2ffea2ab",
   "metadata": {},
   "source": [
    "# 關於 function 的 return\n",
    "\n",
    "- **無回傳值**\n",
    "    - 在函式運算的最後，沒有加上 return 關鍵字。\n",
    "    - 用於單純執行完某一項任務。\n",
    "- **有回傳值**\n",
    "    - 在函式完成運算後，會在最後加上 return 關鍵字。\n",
    "    - 將結果回傳給來源端，進而做其它的運用。"
   ]
  },
  {
   "cell_type": "markdown",
   "id": "f7f235cf",
   "metadata": {},
   "source": [
    "## 無回傳值"
   ]
  },
  {
   "cell_type": "code",
   "execution_count": 26,
   "id": "a71abfe2",
   "metadata": {},
   "outputs": [],
   "source": [
    "def print_calc_price(num_apple, num_banana, num_orange):\n",
    "    price_apple = 10 * num_apple\n",
    "    price_banana = 20 * num_banana\n",
    "    price_orange = 30 * num_orange\n",
    "    price_total = price_apple + price_banana + price_orange\n",
    "    \n",
    "    print(price_total)"
   ]
  },
  {
   "cell_type": "code",
   "execution_count": 27,
   "id": "ccafcab2",
   "metadata": {},
   "outputs": [
    {
     "name": "stdout",
     "output_type": "stream",
     "text": [
      "140\n",
      "None\n",
      "<class 'NoneType'>\n"
     ]
    }
   ],
   "source": [
    "price = print_calc_price(1, 2, 3)\n",
    "\n",
    "print(price)\n",
    "print(type(price))"
   ]
  },
  {
   "cell_type": "markdown",
   "id": "69d47939",
   "metadata": {},
   "source": [
    "## 有回傳值"
   ]
  },
  {
   "cell_type": "code",
   "execution_count": 28,
   "id": "19e18f6c",
   "metadata": {},
   "outputs": [],
   "source": [
    "def return_calc_price(num_apple, num_banana, num_orange):\n",
    "    price_apple = 10 * num_apple\n",
    "    price_banana = 20 * num_banana\n",
    "    price_orange = 30 * num_orange\n",
    "    price_total = price_apple + price_banana + price_orange\n",
    "    \n",
    "    return price_total"
   ]
  },
  {
   "cell_type": "code",
   "execution_count": 29,
   "id": "3e812303",
   "metadata": {},
   "outputs": [
    {
     "data": {
      "text/plain": [
       "140"
      ]
     },
     "execution_count": 29,
     "metadata": {},
     "output_type": "execute_result"
    }
   ],
   "source": [
    "return_calc_price(1, 2, 3)"
   ]
  },
  {
   "cell_type": "code",
   "execution_count": 30,
   "id": "b0908681",
   "metadata": {},
   "outputs": [
    {
     "name": "stdout",
     "output_type": "stream",
     "text": [
      "140\n",
      "<class 'int'>\n"
     ]
    }
   ],
   "source": [
    "price = return_calc_price(1, 2, 3)\n",
    "\n",
    "print(price)\n",
    "print(type(price))"
   ]
  },
  {
   "cell_type": "markdown",
   "id": "7a0b2e21",
   "metadata": {},
   "source": [
    "# 關於 function 的變數範圍 (Variable scope)\n",
    "\n",
    "- 在任何程式語言中，變數都有它的有效範圍，也就是變數所在的程式碼位置，會影響到是否可以進行存取。\n",
    "- 可以分為\n",
    "    - **區域變數(Local Variable)**：在函式中所定義的變數就是區域變數。只有在函式的範圍中都可以進行存取，而函式以外的其它地方，則無法進行存取。\n",
    "    - **全域變數(Global Variable)**：只要在同一個Python檔案中，皆可進行存取。"
   ]
  },
  {
   "cell_type": "code",
   "execution_count": 11,
   "id": "90eda1ee",
   "metadata": {},
   "outputs": [
    {
     "name": "stdout",
     "output_type": "stream",
     "text": [
      "在 function 中，x = 100\n",
      "在 function 之外，x = 50\n"
     ]
    }
   ],
   "source": [
    "# 全域變數\n",
    "x = 50\n",
    "\n",
    "def calc_number():\n",
    "    # 區域變數\n",
    "    x = 100\n",
    "    print('在 function 中，x =', x)\n",
    "\n",
    "calc_number()\n",
    "print('在 function 之外，x =', x)"
   ]
  },
  {
   "cell_type": "code",
   "execution_count": 13,
   "id": "c636a3b0",
   "metadata": {
    "scrolled": true
   },
   "outputs": [
    {
     "ename": "NameError",
     "evalue": "name 'y' is not defined",
     "output_type": "error",
     "traceback": [
      "\u001b[1;31m---------------------------------------------------------------------------\u001b[0m",
      "\u001b[1;31mNameError\u001b[0m                                 Traceback (most recent call last)",
      "\u001b[1;32m<ipython-input-13-eac89ad58e03>\u001b[0m in \u001b[0;36m<module>\u001b[1;34m\u001b[0m\n\u001b[0;32m      3\u001b[0m     \u001b[0my\u001b[0m \u001b[1;33m=\u001b[0m \u001b[1;36m100\u001b[0m\u001b[1;33m\u001b[0m\u001b[1;33m\u001b[0m\u001b[0m\n\u001b[0;32m      4\u001b[0m \u001b[1;33m\u001b[0m\u001b[0m\n\u001b[1;32m----> 5\u001b[1;33m \u001b[0my\u001b[0m\u001b[1;33m\u001b[0m\u001b[1;33m\u001b[0m\u001b[0m\n\u001b[0m",
      "\u001b[1;31mNameError\u001b[0m: name 'y' is not defined"
     ]
    }
   ],
   "source": [
    "# 區域變數沒辦法在 function 以外的地方被取用\n",
    "\n",
    "def calc_number_2():\n",
    "    # 區域變數\n",
    "    y = 100\n",
    "    \n",
    "y"
   ]
  },
  {
   "cell_type": "markdown",
   "id": "2e5bcfdb",
   "metadata": {},
   "source": [
    "**比較一下以下兩個**"
   ]
  },
  {
   "cell_type": "code",
   "execution_count": 15,
   "id": "7fff3229",
   "metadata": {},
   "outputs": [
    {
     "name": "stdout",
     "output_type": "stream",
     "text": [
      "30\n"
     ]
    }
   ],
   "source": [
    "# 小心誤用全域變數\n",
    "\n",
    "a = 10\n",
    "b = 20\n",
    "\n",
    "def calc_number_3():\n",
    "    print(a + b)\n",
    "    \n",
    "calc_number_3()"
   ]
  },
  {
   "cell_type": "code",
   "execution_count": 16,
   "id": "b0bc8789",
   "metadata": {},
   "outputs": [
    {
     "name": "stdout",
     "output_type": "stream",
     "text": [
      "300\n"
     ]
    }
   ],
   "source": [
    "# 避免誤用全域變數，要在 function 設定好要接收的參數\n",
    "\n",
    "a = 10\n",
    "b = 20\n",
    "\n",
    "def calc_number_3(a, b):\n",
    "    print(a + b)\n",
    "    \n",
    "calc_number_3(100, 200)"
   ]
  }
 ],
 "metadata": {
  "kernelspec": {
   "display_name": "Python 3",
   "language": "python",
   "name": "python3"
  },
  "language_info": {
   "codemirror_mode": {
    "name": "ipython",
    "version": 3
   },
   "file_extension": ".py",
   "mimetype": "text/x-python",
   "name": "python",
   "nbconvert_exporter": "python",
   "pygments_lexer": "ipython3",
   "version": "3.7.3"
  },
  "toc": {
   "base_numbering": 1,
   "nav_menu": {},
   "number_sections": true,
   "sideBar": true,
   "skip_h1_title": false,
   "title_cell": "Table of Contents",
   "title_sidebar": "Contents",
   "toc_cell": false,
   "toc_position": {
    "height": "calc(100% - 180px)",
    "left": "10px",
    "top": "150px",
    "width": "219.273px"
   },
   "toc_section_display": true,
   "toc_window_display": true
  }
 },
 "nbformat": 4,
 "nbformat_minor": 5
}
