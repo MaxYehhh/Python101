{
 "cells": [
  {
   "cell_type": "markdown",
   "metadata": {},
   "source": [
    "<p style=\"font-size:30px;font-weight:bold;margin-top:-0px\">Python 101</p>\n",
    "<p style=\"font-size:25px;font-weight:bold;\">條件控制（Conditions）</p>\n",
    "<hr style=\"border:1px solid #edf1f2;\" />\n",
    "\n",
    "- if-else\n",
    "- 迴圈\n",
    "    - for 迴圈\n",
    "    - while 迴圈\n",
    "    - 迴圈常用技巧\n",
    "        - in\n",
    "        - range\n",
    "        - zip\n",
    "        - enumerate\n",
    "        - list comprehension (串列解析式)\n",
    "-  try-except"
   ]
  },
  {
   "cell_type": "markdown",
   "metadata": {},
   "source": [
    "# if-else 判斷句\n",
    "- 注意縮排（Indention）、空格"
   ]
  },
  {
   "cell_type": "markdown",
   "metadata": {},
   "source": [
    "## if\n",
    "<pre style='background-color:#FFF4C1'>\n",
    "if 判斷條件A：\n",
    "    若「判斷條件A」為真，執行此區域。\n",
    "</pre>"
   ]
  },
  {
   "cell_type": "code",
   "execution_count": 7,
   "metadata": {},
   "outputs": [
    {
     "name": "stdout",
     "output_type": "stream",
     "text": [
      "Bingo!\n"
     ]
    }
   ],
   "source": [
    "if 2 > 1:\n",
    "    print('Bingo!')"
   ]
  },
  {
   "cell_type": "code",
   "execution_count": 8,
   "metadata": {},
   "outputs": [],
   "source": [
    "if 2 < 1:\n",
    "    print('Bingo!')"
   ]
  },
  {
   "cell_type": "code",
   "execution_count": 9,
   "metadata": {},
   "outputs": [
    {
     "name": "stdout",
     "output_type": "stream",
     "text": [
      "yes\n"
     ]
    }
   ],
   "source": [
    "if True:\n",
    "    print('yes')"
   ]
  },
  {
   "cell_type": "code",
   "execution_count": 10,
   "metadata": {},
   "outputs": [],
   "source": [
    "if False:\n",
    "    print('yes')"
   ]
  },
  {
   "cell_type": "markdown",
   "metadata": {},
   "source": [
    "## if-else\n",
    "<pre style='background-color:#FFF4C1'>\n",
    "if 判斷條件A：\n",
    "    若「判斷條件A」為真，執行此區域。\n",
    "else:\n",
    "    除了「判斷條件A」為真之外的所有情況，執行此區域。\n",
    "</pre>"
   ]
  },
  {
   "cell_type": "code",
   "execution_count": 15,
   "metadata": {},
   "outputs": [
    {
     "name": "stdout",
     "output_type": "stream",
     "text": [
      "您的分數為 60 分，有及格哦！\n"
     ]
    }
   ],
   "source": [
    "grade = 60\n",
    "\n",
    "if grade >= 60:\n",
    "    print(f'您的分數為 {grade} 分，有及格哦！')\n",
    "else:\n",
    "    print(f'您的分數為 {grade} 分，不及格哦QQ')"
   ]
  },
  {
   "cell_type": "markdown",
   "metadata": {},
   "source": [
    "## if-elif-else\n",
    "\n",
    "<pre style='background-color:#FFF4C1'>\n",
    "if 判斷條件A：\n",
    "    若「判斷條件A」為真，執行此區域。\n",
    "elif 判斷條件B：\n",
    "    若「判斷條件A」為假，且「判斷條件B」為真，執行此區域。\n",
    "else:\n",
    "    若上述條件皆為假，執行此區域。\n",
    "</pre>"
   ]
  },
  {
   "cell_type": "code",
   "execution_count": 21,
   "metadata": {},
   "outputs": [
    {
     "name": "stdout",
     "output_type": "stream",
     "text": [
      "您的分數為 81 分，考得不錯哦～\n"
     ]
    }
   ],
   "source": [
    "grade = 81\n",
    "\n",
    "if grade > 80:\n",
    "    print(f'您的分數為 {grade} 分，考得不錯哦～')\n",
    "elif grade >= 60:\n",
    "    print(f'您的分數為 {grade} 分，有及格哦！')\n",
    "else:\n",
    "    print(f'您的分數為 {grade} 分，不及格哦QQ')"
   ]
  },
  {
   "cell_type": "markdown",
   "metadata": {},
   "source": [
    "## 巢狀 if-else"
   ]
  },
  {
   "cell_type": "code",
   "execution_count": 30,
   "metadata": {},
   "outputs": [
    {
     "name": "stdout",
     "output_type": "stream",
     "text": [
      "您的分數為 59 分，不及格哦QQ\n",
      "阿你是男的還女的？\n"
     ]
    }
   ],
   "source": [
    "grade = 59\n",
    "sex = ''\n",
    "\n",
    "if grade > 80:\n",
    "    print(f'您的分數為 {grade} 分，考得不錯哦～')\n",
    "    \n",
    "elif grade >= 60:\n",
    "    print(f'您的分數為 {grade} 分，有及格哦！')\n",
    "    \n",
    "else:\n",
    "    print(f'您的分數為 {grade} 分，不及格哦QQ')\n",
    "    \n",
    "    if sex == 'male':\n",
    "        print(f'你這個蠢材')\n",
    "    elif sex == 'female':\n",
    "        print(f'沒關係！下次再加油～')\n",
    "    else:\n",
    "        print(f'阿你是男的還女的？')"
   ]
  },
  {
   "cell_type": "markdown",
   "metadata": {},
   "source": [
    "# 迴圈（loops）"
   ]
  },
  {
   "cell_type": "markdown",
   "metadata": {},
   "source": [
    "## for loops\n",
    "\n",
    "> 為何需要迴圈？\n",
    ">- 幫我們處理重複性高的任務。\n",
    "    \n",
    "> **語法**\n",
    "> <pre style='background-color:#FFF4C1'>\n",
    "for item in object：\n",
    "    DO SOMETHING\n",
    "</pre>\n",
    ">- item 的變數名稱可以自由命名。"
   ]
  },
  {
   "cell_type": "markdown",
   "metadata": {},
   "source": [
    "### 結合資料結構\n",
    "- list\n",
    "- dict\n",
    "- tuple"
   ]
  },
  {
   "cell_type": "markdown",
   "metadata": {},
   "source": [
    "#### list & tuple"
   ]
  },
  {
   "cell_type": "code",
   "execution_count": 43,
   "metadata": {},
   "outputs": [
    {
     "name": "stdout",
     "output_type": "stream",
     "text": [
      "Michelle\n",
      "Elaine\n",
      "Max\n"
     ]
    }
   ],
   "source": [
    "### 我們要印出所有人的名字\n",
    "\n",
    "# list\n",
    "people_list = ['Michelle', 'Elaine', 'Max']\n",
    "\n",
    "# tuple\n",
    "people_tuple = ('Michelle', 'Elaine', 'Max')\n",
    "\n",
    "print(people[0])\n",
    "print(people[1])\n",
    "print(people[2])"
   ]
  },
  {
   "cell_type": "code",
   "execution_count": 46,
   "metadata": {},
   "outputs": [
    {
     "name": "stdout",
     "output_type": "stream",
     "text": [
      "Michelle\n",
      "Elaine\n",
      "Max\n",
      "====================================\n",
      "Michelle\n",
      "Elaine\n",
      "Max\n"
     ]
    }
   ],
   "source": [
    "### 用 for loop 印出所有人的名字\n",
    "\n",
    "for person in people_list:\n",
    "    print(person)\n",
    "\n",
    "print('====================================')\n",
    "    \n",
    "for person in people_tuple:\n",
    "    print(person)"
   ]
  },
  {
   "cell_type": "code",
   "execution_count": 40,
   "metadata": {},
   "outputs": [
    {
     "name": "stdout",
     "output_type": "stream",
     "text": [
      "Name: A / Score: 20\n",
      "Name: B / Score: 40\n",
      "Name: C / Score: 60\n"
     ]
    }
   ],
   "source": [
    "### 也可以多個一起來（大於 2 個以此類推）\n",
    "\n",
    "mix_list = [('A', 20), ('B', 40), ('C', 60)]\n",
    "\n",
    "for x, y in mix_list:\n",
    "    print(f'Name: {x} / Score: {y}')"
   ]
  },
  {
   "cell_type": "markdown",
   "metadata": {},
   "source": [
    "#### dict"
   ]
  },
  {
   "cell_type": "code",
   "execution_count": 48,
   "metadata": {},
   "outputs": [],
   "source": [
    "### 換 dict 看看\n",
    "\n",
    "info_dict = {'name': 'Andy', \n",
    "             'sex': 'male',\n",
    "             'contacts': {'FB': 'Andy',\n",
    "                          'IG': 'i_am_andy'\n",
    "                         },\n",
    "             'hobbies': ['guitar', 'basketball']\n",
    "            }"
   ]
  },
  {
   "cell_type": "code",
   "execution_count": 49,
   "metadata": {},
   "outputs": [
    {
     "name": "stdout",
     "output_type": "stream",
     "text": [
      "name\n",
      "sex\n",
      "contacts\n",
      "hobbies\n"
     ]
    }
   ],
   "source": [
    "### 印出所有 keys\n",
    "\n",
    "for key in info_dict.keys():\n",
    "    print(key)"
   ]
  },
  {
   "cell_type": "code",
   "execution_count": 50,
   "metadata": {},
   "outputs": [
    {
     "name": "stdout",
     "output_type": "stream",
     "text": [
      "name Andy\n",
      "sex male\n",
      "contacts {'FB': 'Andy', 'IG': 'i_am_andy'}\n",
      "hobbies ['guitar', 'basketball']\n"
     ]
    }
   ],
   "source": [
    "### key 跟 value 一起印\n",
    "\n",
    "for key, value in info_dict.items():\n",
    "    print(key, value)"
   ]
  },
  {
   "cell_type": "markdown",
   "metadata": {},
   "source": [
    "### 結合 if-else"
   ]
  },
  {
   "cell_type": "code",
   "execution_count": null,
   "metadata": {},
   "outputs": [],
   "source": []
  },
  {
   "cell_type": "markdown",
   "metadata": {},
   "source": [
    "### 結合 string"
   ]
  },
  {
   "cell_type": "code",
   "execution_count": null,
   "metadata": {},
   "outputs": [],
   "source": []
  },
  {
   "cell_type": "markdown",
   "metadata": {},
   "source": [
    "### 一些條件控制的方法\n",
    "- continue\n",
    "- break\n",
    "- pass"
   ]
  },
  {
   "cell_type": "code",
   "execution_count": null,
   "metadata": {},
   "outputs": [],
   "source": []
  },
  {
   "cell_type": "markdown",
   "metadata": {},
   "source": [
    "## while loops"
   ]
  },
  {
   "cell_type": "code",
   "execution_count": null,
   "metadata": {},
   "outputs": [],
   "source": []
  },
  {
   "cell_type": "code",
   "execution_count": null,
   "metadata": {},
   "outputs": [],
   "source": []
  },
  {
   "cell_type": "markdown",
   "metadata": {},
   "source": [
    "# try-except 例外處理"
   ]
  },
  {
   "cell_type": "code",
   "execution_count": null,
   "metadata": {},
   "outputs": [],
   "source": []
  }
 ],
 "metadata": {
  "kernelspec": {
   "display_name": "Python 3",
   "language": "python",
   "name": "python3"
  },
  "language_info": {
   "codemirror_mode": {
    "name": "ipython",
    "version": 3
   },
   "file_extension": ".py",
   "mimetype": "text/x-python",
   "name": "python",
   "nbconvert_exporter": "python",
   "pygments_lexer": "ipython3",
   "version": "3.8.5"
  },
  "toc": {
   "base_numbering": 1,
   "nav_menu": {},
   "number_sections": true,
   "sideBar": true,
   "skip_h1_title": false,
   "title_cell": "Table of Contents",
   "title_sidebar": "Contents",
   "toc_cell": false,
   "toc_position": {},
   "toc_section_display": true,
   "toc_window_display": true
  }
 },
 "nbformat": 4,
 "nbformat_minor": 4
}
