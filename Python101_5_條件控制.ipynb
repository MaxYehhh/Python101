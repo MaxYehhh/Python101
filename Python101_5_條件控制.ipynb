{
 "cells": [
  {
   "cell_type": "markdown",
   "metadata": {},
   "source": [
    "<p style=\"font-size:30px;font-weight:bold;margin-top:-0px\">Python 101</p>\n",
    "<p style=\"font-size:25px;font-weight:bold;\">條件控制（Conditions）</p>\n",
    "<hr style=\"border:1px solid #edf1f2;\" />\n",
    "\n",
    "- if-else\n",
    "- 迴圈\n",
    "    - for 迴圈\n",
    "    - while 迴圈\n",
    "    - 迴圈常用技巧\n",
    "        - in\n",
    "        - range\n",
    "        - zip\n",
    "        - enumerate\n",
    "        - list comprehension (串列解析式)\n",
    "-  try-except"
   ]
  },
  {
   "cell_type": "markdown",
   "metadata": {},
   "source": [
    "# if-else 判斷句\n",
    "- 注意縮排（Indention）、空格"
   ]
  },
  {
   "cell_type": "markdown",
   "metadata": {},
   "source": [
    "## if\n",
    "<pre style='background-color:#FFF4C1'>\n",
    "if 判斷條件A：\n",
    "    若「判斷條件A」為真，執行此區域。\n",
    "</pre>"
   ]
  },
  {
   "cell_type": "code",
   "execution_count": 7,
   "metadata": {},
   "outputs": [
    {
     "name": "stdout",
     "output_type": "stream",
     "text": [
      "Bingo!\n"
     ]
    }
   ],
   "source": [
    "if 2 > 1:\n",
    "    print('Bingo!')"
   ]
  },
  {
   "cell_type": "code",
   "execution_count": 8,
   "metadata": {},
   "outputs": [],
   "source": [
    "if 2 < 1:\n",
    "    print('Bingo!')"
   ]
  },
  {
   "cell_type": "code",
   "execution_count": 9,
   "metadata": {},
   "outputs": [
    {
     "name": "stdout",
     "output_type": "stream",
     "text": [
      "yes\n"
     ]
    }
   ],
   "source": [
    "if True:\n",
    "    print('yes')"
   ]
  },
  {
   "cell_type": "code",
   "execution_count": 10,
   "metadata": {},
   "outputs": [],
   "source": [
    "if False:\n",
    "    print('yes')"
   ]
  },
  {
   "cell_type": "markdown",
   "metadata": {},
   "source": [
    "## if-else\n",
    "<pre style='background-color:#FFF4C1'>\n",
    "if 判斷條件A：\n",
    "    若「判斷條件A」為真，執行此區域。\n",
    "else:\n",
    "    除了「判斷條件A」為真之外的所有情況，執行此區域。\n",
    "</pre>"
   ]
  },
  {
   "cell_type": "code",
   "execution_count": 15,
   "metadata": {},
   "outputs": [
    {
     "name": "stdout",
     "output_type": "stream",
     "text": [
      "您的分數為 60 分，有及格哦！\n"
     ]
    }
   ],
   "source": [
    "grade = 60\n",
    "\n",
    "if grade >= 60:\n",
    "    print(f'您的分數為 {grade} 分，有及格哦！')\n",
    "else:\n",
    "    print(f'您的分數為 {grade} 分，不及格哦QQ')"
   ]
  },
  {
   "cell_type": "markdown",
   "metadata": {},
   "source": [
    "## if-elif-else\n",
    "\n",
    "<pre style='background-color:#FFF4C1'>\n",
    "if 判斷條件A：\n",
    "    若「判斷條件A」為真，執行此區域。\n",
    "elif 判斷條件B：\n",
    "    若「判斷條件A」為假，且「判斷條件B」為真，執行此區域。\n",
    "else:\n",
    "    若上述條件皆為假，執行此區域。\n",
    "</pre>"
   ]
  },
  {
   "cell_type": "code",
   "execution_count": 21,
   "metadata": {},
   "outputs": [
    {
     "name": "stdout",
     "output_type": "stream",
     "text": [
      "您的分數為 81 分，考得不錯哦～\n"
     ]
    }
   ],
   "source": [
    "grade = 81\n",
    "\n",
    "if grade > 80:\n",
    "    print(f'您的分數為 {grade} 分，考得不錯哦～')\n",
    "elif grade >= 60:\n",
    "    print(f'您的分數為 {grade} 分，有及格哦！')\n",
    "else:\n",
    "    print(f'您的分數為 {grade} 分，不及格哦QQ')"
   ]
  },
  {
   "cell_type": "markdown",
   "metadata": {},
   "source": [
    "## 巢狀 if-else"
   ]
  },
  {
   "cell_type": "code",
   "execution_count": 30,
   "metadata": {},
   "outputs": [
    {
     "name": "stdout",
     "output_type": "stream",
     "text": [
      "您的分數為 59 分，不及格哦QQ\n",
      "阿你是男的還女的？\n"
     ]
    }
   ],
   "source": [
    "grade = 59\n",
    "sex = ''\n",
    "\n",
    "if grade > 80:\n",
    "    print(f'您的分數為 {grade} 分，考得不錯哦～')\n",
    "    \n",
    "elif grade >= 60:\n",
    "    print(f'您的分數為 {grade} 分，有及格哦！')\n",
    "    \n",
    "else:\n",
    "    print(f'您的分數為 {grade} 分，不及格哦QQ')\n",
    "    \n",
    "    if sex == 'male':\n",
    "        print(f'你這個蠢材')\n",
    "    elif sex == 'female':\n",
    "        print(f'沒關係！下次再加油～')\n",
    "    else:\n",
    "        print(f'阿你是男的還女的？')"
   ]
  },
  {
   "cell_type": "markdown",
   "metadata": {},
   "source": [
    "# 迴圈（loops）\n",
    "\n",
    "> 為何需要迴圈？\n",
    ">- 幫我們執行重複性的任務。"
   ]
  },
  {
   "cell_type": "markdown",
   "metadata": {},
   "source": [
    "## for loops\n",
    "    \n",
    "> **語法**\n",
    "> <pre style='background-color:#FFF4C1'>\n",
    "for item in object：\n",
    "    DO SOMETHING\n",
    "</pre>\n",
    ">- item 的變數名稱可以自由命名。"
   ]
  },
  {
   "cell_type": "markdown",
   "metadata": {},
   "source": [
    "### 結合資料結構\n",
    "- list\n",
    "- dict\n",
    "- tuple"
   ]
  },
  {
   "cell_type": "markdown",
   "metadata": {},
   "source": [
    "#### list & tuple"
   ]
  },
  {
   "cell_type": "code",
   "execution_count": 43,
   "metadata": {},
   "outputs": [
    {
     "name": "stdout",
     "output_type": "stream",
     "text": [
      "Michelle\n",
      "Elaine\n",
      "Max\n"
     ]
    }
   ],
   "source": [
    "### 我們要印出所有人的名字\n",
    "\n",
    "# list\n",
    "people_list = ['Michelle', 'Elaine', 'Max']\n",
    "\n",
    "# tuple\n",
    "people_tuple = ('Michelle', 'Elaine', 'Max')\n",
    "\n",
    "print(people[0])\n",
    "print(people[1])\n",
    "print(people[2])"
   ]
  },
  {
   "cell_type": "code",
   "execution_count": 46,
   "metadata": {},
   "outputs": [
    {
     "name": "stdout",
     "output_type": "stream",
     "text": [
      "Michelle\n",
      "Elaine\n",
      "Max\n",
      "====================================\n",
      "Michelle\n",
      "Elaine\n",
      "Max\n"
     ]
    }
   ],
   "source": [
    "### 用 for loop 印出所有人的名字\n",
    "\n",
    "for person in people_list:\n",
    "    print(person)\n",
    "\n",
    "print('====================================')\n",
    "    \n",
    "for person in people_tuple:\n",
    "    print(person)"
   ]
  },
  {
   "cell_type": "code",
   "execution_count": 40,
   "metadata": {},
   "outputs": [
    {
     "name": "stdout",
     "output_type": "stream",
     "text": [
      "Name: A / Score: 20\n",
      "Name: B / Score: 40\n",
      "Name: C / Score: 60\n"
     ]
    }
   ],
   "source": [
    "### 也可以多個一起來（大於 2 個以此類推）\n",
    "\n",
    "mix_list = [('A', 20), ('B', 40), ('C', 60)]\n",
    "\n",
    "for x, y in mix_list:\n",
    "    print(f'Name: {x} / Score: {y}')"
   ]
  },
  {
   "cell_type": "markdown",
   "metadata": {},
   "source": [
    "#### dict"
   ]
  },
  {
   "cell_type": "code",
   "execution_count": 48,
   "metadata": {},
   "outputs": [],
   "source": [
    "### 換 dict 看看\n",
    "\n",
    "info_dict = {'name': 'Andy', \n",
    "             'sex': 'male',\n",
    "             'contacts': {'FB': 'Andy',\n",
    "                          'IG': 'i_am_andy'\n",
    "                         },\n",
    "             'hobbies': ['guitar', 'basketball']\n",
    "            }"
   ]
  },
  {
   "cell_type": "code",
   "execution_count": 49,
   "metadata": {},
   "outputs": [
    {
     "name": "stdout",
     "output_type": "stream",
     "text": [
      "name\n",
      "sex\n",
      "contacts\n",
      "hobbies\n"
     ]
    }
   ],
   "source": [
    "### 印出所有 keys\n",
    "\n",
    "for key in info_dict.keys():\n",
    "    print(key)"
   ]
  },
  {
   "cell_type": "code",
   "execution_count": 50,
   "metadata": {},
   "outputs": [
    {
     "name": "stdout",
     "output_type": "stream",
     "text": [
      "name Andy\n",
      "sex male\n",
      "contacts {'FB': 'Andy', 'IG': 'i_am_andy'}\n",
      "hobbies ['guitar', 'basketball']\n"
     ]
    }
   ],
   "source": [
    "### key 跟 value 一起印\n",
    "\n",
    "for key, value in info_dict.items():\n",
    "    print(key, value)"
   ]
  },
  {
   "cell_type": "markdown",
   "metadata": {},
   "source": [
    "### 結合 if-else\n",
    "- 聰明的你一定想得到，可以利用迴圈結合條件判斷 do something ～\n",
    "- 注意縮排"
   ]
  },
  {
   "cell_type": "code",
   "execution_count": 1,
   "metadata": {},
   "outputs": [
    {
     "name": "stdout",
     "output_type": "stream",
     "text": [
      "您的分數為 80 分，有及格哦！\n",
      "您的分數為 70 分，有及格哦！\n",
      "您的分數為 69 分，有及格哦！\n",
      "您的分數為 50 分，不及格哦QQ\n",
      "您的分數為 92 分，考得不錯哦～\n"
     ]
    }
   ],
   "source": [
    "grade_list = [80, 70, 69, 50, 92]\n",
    "\n",
    "for grade in grade_list:\n",
    "    if grade > 80:\n",
    "        print(f'您的分數為 {grade} 分，考得不錯哦～')\n",
    "    elif grade >= 60:\n",
    "        print(f'您的分數為 {grade} 分，有及格哦！')\n",
    "    else:\n",
    "        print(f'您的分數為 {grade} 分，不及格哦QQ')"
   ]
  },
  {
   "cell_type": "code",
   "execution_count": 2,
   "metadata": {},
   "outputs": [
    {
     "data": {
      "text/plain": [
       "['Andy', 'Billy', 'Cindy', 'Elton']"
      ]
     },
     "execution_count": 2,
     "metadata": {},
     "output_type": "execute_result"
    }
   ],
   "source": [
    "grade_dict = {'Andy': 80, 'Billy': 70, 'Cindy': 69, 'Danny': 50, 'Elton': 92}\n",
    "pass_people = []\n",
    "\n",
    "for name, grade in grade_dict.items():\n",
    "    if grade > 60:\n",
    "        pass_people.append(name)\n",
    "\n",
    "pass_people"
   ]
  },
  {
   "cell_type": "markdown",
   "metadata": {},
   "source": [
    "### 結合 string\n",
    "- string 也是可以的。"
   ]
  },
  {
   "cell_type": "code",
   "execution_count": 1,
   "metadata": {
    "scrolled": true
   },
   "outputs": [
    {
     "name": "stdout",
     "output_type": "stream",
     "text": [
      "p\n",
      "n\n",
      "e\n",
      "u\n",
      "m\n",
      "o\n",
      "n\n",
      "o\n",
      "u\n",
      "l\n",
      "t\n",
      "r\n",
      "a\n",
      "m\n",
      "i\n",
      "c\n",
      "r\n",
      "o\n",
      "s\n",
      "c\n",
      "o\n",
      "p\n",
      "i\n",
      "c\n",
      "s\n",
      "i\n",
      "l\n",
      "i\n",
      "c\n",
      "o\n",
      "v\n",
      "o\n",
      "l\n",
      "c\n",
      "a\n",
      "n\n",
      "o\n",
      "c\n",
      "o\n",
      "n\n",
      "i\n",
      "o\n",
      "s\n",
      "i\n",
      "s\n"
     ]
    }
   ],
   "source": [
    "for letter in 'pneumonoultramicroscopicsilicovolcanoconiosis':\n",
    "    print(letter)"
   ]
  },
  {
   "cell_type": "markdown",
   "metadata": {},
   "source": [
    "### 一些條件控制的方法\n",
    "- continue：跳過該次迭代。\n",
    "- break：離開該層迴圈。\n",
    "- pass：是空語句，使用於保持結構的完整性，不會有任何輸出。"
   ]
  },
  {
   "cell_type": "code",
   "execution_count": 9,
   "metadata": {},
   "outputs": [
    {
     "name": "stdout",
     "output_type": "stream",
     "text": [
      "發現不及格的同學！\n",
      "Billy: 40\n",
      "發現不及格的同學！\n",
      "Danny: 50\n"
     ]
    }
   ],
   "source": [
    "grade_dict = {'Andy': 80, 'Billy': 40, 'Cindy': 69, 'Danny': 50, 'Elton': 92}\n",
    "\n",
    "for name, grade in grade_dict.items():\n",
    "    if grade < 60:\n",
    "        print('發現不及格的同學！')\n",
    "        print(f'{name}: {grade}')\n",
    "    else:\n",
    "        continue"
   ]
  },
  {
   "cell_type": "code",
   "execution_count": 15,
   "metadata": {},
   "outputs": [
    {
     "name": "stdout",
     "output_type": "stream",
     "text": [
      "1: 80\n",
      "2: 71\n",
      "3: 69\n",
      "4: 50\n",
      "5: 92\n"
     ]
    }
   ],
   "source": [
    "# 利用計數去控制迴圈什麼時候終止\n",
    "\n",
    "grade_list = [80, 71, 69, 50, 92, 33, 90, 69, 64]\n",
    "cnt = 1\n",
    "\n",
    "for grade in grade_list:\n",
    "    print(f'{cnt}: {grade}')\n",
    "    cnt += 1\n",
    "    \n",
    "    if cnt > 5:\n",
    "        break"
   ]
  },
  {
   "cell_type": "code",
   "execution_count": 14,
   "metadata": {},
   "outputs": [
    {
     "name": "stdout",
     "output_type": "stream",
     "text": [
      "Andy，您的分數為 80 分，有及格哦～\n",
      "Sherry，您的分數為 50 分，不及格哦QQ\n",
      "Billy，您的分數為 48 分，不及格哦QQ\n",
      "你這個蠢材\n",
      "Emma，您的分數為 53 分，不及格哦QQ\n"
     ]
    }
   ],
   "source": [
    "# 複雜一點點\n",
    "\n",
    "grade_dict = [{'name': 'Andy',\n",
    "               'sex': 'male',\n",
    "               'grade': 80\n",
    "              },\n",
    "              {'name': 'Sherry',\n",
    "               'sex': 'female',\n",
    "               'grade': 50\n",
    "              },\n",
    "              {'name': 'Billy',\n",
    "               'sex': 'male',\n",
    "               'grade': 48\n",
    "              },\n",
    "              {'name': 'Emma',\n",
    "               'sex': 'female',\n",
    "               'grade': 53\n",
    "              }\n",
    "             ]\n",
    "\n",
    "for student in grade_dict:\n",
    "    if student['grade'] >= 60:\n",
    "        print(f'{student[\"name\"]}，您的分數為 {student[\"grade\"]} 分，有及格哦～')\n",
    "    else:\n",
    "        print(f'{student[\"name\"]}，您的分數為 {student[\"grade\"]} 分，不及格哦QQ')\n",
    "        \n",
    "        if student['sex'] == 'male':\n",
    "            print(f'你這個蠢材')\n",
    "        else:\n",
    "#             continue\n",
    "            pass"
   ]
  },
  {
   "cell_type": "code",
   "execution_count": 17,
   "metadata": {},
   "outputs": [],
   "source": [
    "# little test：請問 list\"pass_people\" 中會出現哪些人名？\n",
    "\n",
    "grade_dict = {'Andy': 80, 'Billy': 70, 'Cindy': 69, 'Danny': 50, 'Elton': 92}\n",
    "pass_people = []\n",
    "\n",
    "for name, grade in grade_dict.items():\n",
    "    if grade >= 80:\n",
    "        continue\n",
    "    elif grade > 60:\n",
    "        pass_people.append(name)\n",
    "    if len(pass_people) > 2:\n",
    "        break"
   ]
  },
  {
   "cell_type": "markdown",
   "metadata": {},
   "source": [
    "#### continue v.s pass"
   ]
  },
  {
   "cell_type": "code",
   "execution_count": 21,
   "metadata": {},
   "outputs": [],
   "source": [
    "word = 'python'\n",
    "i = 2"
   ]
  },
  {
   "cell_type": "code",
   "execution_count": 22,
   "metadata": {},
   "outputs": [
    {
     "name": "stdout",
     "output_type": "stream",
     "text": [
      "2: p\n",
      "2: t\n",
      "2: h\n",
      "2: o\n",
      "2: n\n"
     ]
    }
   ],
   "source": [
    "for letter in word:\n",
    "    if letter == 'y':\n",
    "        continue\n",
    "        i -= 1\n",
    "    else:\n",
    "        print(f'{i}: {letter}')"
   ]
  },
  {
   "cell_type": "code",
   "execution_count": 23,
   "metadata": {},
   "outputs": [
    {
     "name": "stdout",
     "output_type": "stream",
     "text": [
      "2: p\n",
      "1: t\n",
      "1: h\n",
      "1: o\n",
      "1: n\n"
     ]
    }
   ],
   "source": [
    "for letter in word:\n",
    "    if letter == 'y':\n",
    "        pass\n",
    "        i -= 1\n",
    "    else:\n",
    "        print(f'{i}: {letter}')"
   ]
  },
  {
   "cell_type": "markdown",
   "metadata": {},
   "source": [
    "## while loops\n",
    "\n",
    "> **語法**\n",
    "> <pre style='background-color:#FFF4C1'>\n",
    "while 條件：\n",
    "    DO SOMETHING\n",
    "</pre>\n",
    "\n",
    "- **注意：判斷條件若使用不善，可能會產生 infinite loop，會永無止境跑下去哦。**\n",
    "    - 利用 **if** 搭配 **break** 設定迴圈終止的條件。"
   ]
  },
  {
   "cell_type": "markdown",
   "metadata": {},
   "source": [
    "### Example"
   ]
  },
  {
   "cell_type": "code",
   "execution_count": 40,
   "metadata": {},
   "outputs": [
    {
     "name": "stdout",
     "output_type": "stream",
     "text": [
      "0\n",
      "1\n",
      "2\n",
      "3\n",
      "4\n",
      "5\n",
      "6\n",
      "7\n",
      "8\n",
      "9\n",
      "10\n"
     ]
    }
   ],
   "source": [
    "cnt = 0\n",
    "\n",
    "while True:\n",
    "    print(cnt)\n",
    "    cnt += 1\n",
    "    \n",
    "    if cnt > 10:\n",
    "        break"
   ]
  },
  {
   "cell_type": "code",
   "execution_count": null,
   "metadata": {},
   "outputs": [],
   "source": [
    "\"\"\" 注意！如果這樣的話，就會陷入無限迴圈。 \"\"\"\n",
    "\n",
    "cnt = 0\n",
    "\n",
    "while True:\n",
    "    print(cnt)\n",
    "    cnt += 1"
   ]
  },
  {
   "cell_type": "code",
   "execution_count": 35,
   "metadata": {},
   "outputs": [
    {
     "name": "stdout",
     "output_type": "stream",
     "text": [
      "您現在10歲，未滿18歲不可以喝酒ㄛ\n",
      "您現在11歲，未滿18歲不可以喝酒ㄛ\n",
      "您現在12歲，未滿18歲不可以喝酒ㄛ\n",
      "您現在13歲，未滿18歲不可以喝酒ㄛ\n",
      "您現在14歲，未滿18歲不可以喝酒ㄛ\n",
      "您現在15歲，未滿18歲不可以喝酒ㄛ\n",
      "您現在16歲，未滿18歲不可以喝酒ㄛ\n",
      "您現在17歲，未滿18歲不可以喝酒ㄛ\n",
      "您現在18歲，滿18歲了可以喝酒～\n",
      "您現在19歲，滿18歲了可以喝酒～\n",
      "您現在20歲，滿18歲了可以喝酒～\n",
      "您現在21歲，滿18歲了可以喝酒～\n",
      "您現在22歲，滿18歲了可以喝酒～\n"
     ]
    }
   ],
   "source": [
    "age = 10\n",
    "\n",
    "while True:\n",
    "    if age < 18:\n",
    "        print(f'您現在{age}歲，未滿18歲不可以喝酒ㄛ')\n",
    "    else:\n",
    "        print(f'您現在{age}歲，滿18歲了可以喝酒～')\n",
    "    \n",
    "    age += 1\n",
    "    \n",
    "    if age > 22:\n",
    "        break"
   ]
  },
  {
   "cell_type": "markdown",
   "metadata": {},
   "source": [
    "### while-else\n",
    "- while 陳述同樣可以搭配 else 陳述。在迴圈中沒有遇到 break 的話，則 else 區塊會被執行。"
   ]
  },
  {
   "cell_type": "code",
   "execution_count": 39,
   "metadata": {},
   "outputs": [
    {
     "name": "stdout",
     "output_type": "stream",
     "text": [
      "現在10歲, 沒滿18歲還不能喝酒喔\n",
      "現在11歲, 沒滿18歲還不能喝酒喔\n",
      "現在12歲, 沒滿18歲還不能喝酒喔\n",
      "現在13歲, 沒滿18歲還不能喝酒喔\n",
      "現在14歲, 沒滿18歲還不能喝酒喔\n",
      "現在15歲, 沒滿18歲還不能喝酒喔\n",
      "現在16歲, 沒滿18歲還不能喝酒喔\n",
      "現在17歲, 沒滿18歲還不能喝酒喔\n",
      "跳出迴圈了！現在18歲！\n"
     ]
    }
   ],
   "source": [
    "age = 10\n",
    "\n",
    "while age < 18:\n",
    "    print(\"現在{}歲, 沒滿18歲還不能喝酒喔\".format(age))\n",
    "    age+=1\n",
    "else:\n",
    "    print(\"跳出迴圈了！現在{}歲！\".format(age))"
   ]
  },
  {
   "cell_type": "markdown",
   "metadata": {},
   "source": [
    "# 迴圈常用技巧"
   ]
  },
  {
   "cell_type": "markdown",
   "metadata": {},
   "source": [
    "## range\n",
    "- 用於指定範圍或索引的需求。\n",
    "\n",
    "> <pre style='background-color:#FFF4C1'>\n",
    "range([start], end, [step])\n",
    "</pre>\n",
    "\n",
    "- [  ] 為 optional。\n",
    "    - start: default = 0\n",
    "    - step: default = 1"
   ]
  },
  {
   "cell_type": "code",
   "execution_count": 24,
   "metadata": {},
   "outputs": [
    {
     "name": "stdout",
     "output_type": "stream",
     "text": [
      "0\n",
      "1\n",
      "2\n",
      "3\n",
      "4\n",
      "5\n",
      "6\n",
      "7\n",
      "8\n",
      "9\n"
     ]
    }
   ],
   "source": [
    "for i in range(10):\n",
    "    print(i)"
   ]
  },
  {
   "cell_type": "code",
   "execution_count": 29,
   "metadata": {},
   "outputs": [
    {
     "name": "stdout",
     "output_type": "stream",
     "text": [
      "2\n",
      "4\n",
      "6\n",
      "8\n"
     ]
    }
   ],
   "source": [
    "for i in range(2, 10, 2):\n",
    "    print(i)"
   ]
  },
  {
   "cell_type": "markdown",
   "metadata": {},
   "source": [
    "## enumerate\n",
    "- 遍歷一個可迭代的對象（ex. list, tuple, etc.）。\n",
    "\n",
    "> <pre style='background-color:#FFF4C1'>\n",
    "enumerate(iterable, start_index)\n",
    "</pre>\n",
    "\n",
    "- Ref: http://www.runoob.com/python3/python3-func-enumerate.html"
   ]
  },
  {
   "cell_type": "code",
   "execution_count": 43,
   "metadata": {},
   "outputs": [
    {
     "name": "stdout",
     "output_type": "stream",
     "text": [
      "0 cat\n",
      "1 dog\n",
      "2 alpaca\n"
     ]
    }
   ],
   "source": [
    "animals = ['cat', 'dog', 'alpaca']\n",
    "\n",
    "for index in range(len(animals)):\n",
    "    print(index, animals[index])"
   ]
  },
  {
   "cell_type": "code",
   "execution_count": 44,
   "metadata": {},
   "outputs": [
    {
     "name": "stdout",
     "output_type": "stream",
     "text": [
      "0 cat\n",
      "1 dog\n",
      "2 alpaca\n"
     ]
    }
   ],
   "source": [
    "for index, animal in enumerate(animals):\n",
    "    print(index, animal)"
   ]
  },
  {
   "cell_type": "code",
   "execution_count": 47,
   "metadata": {},
   "outputs": [
    {
     "name": "stdout",
     "output_type": "stream",
     "text": [
      "(0, 'cat')\n",
      "(1, 'dog')\n",
      "(2, 'alpaca')\n"
     ]
    }
   ],
   "source": [
    "for animal in enumerate(animals):\n",
    "    print(animal)\n",
    "#     print(type(animal))"
   ]
  },
  {
   "cell_type": "markdown",
   "metadata": {},
   "source": [
    "## zip\n",
    "- 如果有兩個 list 的資訊想要合併使用，可以使用 zip。"
   ]
  },
  {
   "cell_type": "code",
   "execution_count": 57,
   "metadata": {},
   "outputs": [
    {
     "data": {
      "text/plain": [
       "[('Max', 'male'), ('Elaine', 'female'), ('Michelle', 'female')]"
      ]
     },
     "execution_count": 57,
     "metadata": {},
     "output_type": "execute_result"
    }
   ],
   "source": [
    "name_list = ['Max', 'Elaine', 'Michelle']\n",
    "gender_list = ['male', 'female', 'female']\n",
    "\n",
    "# zip(name_list, gender_list)  # 記得轉換資料結構\n",
    "list(zip(name_list, gender_list))"
   ]
  },
  {
   "cell_type": "code",
   "execution_count": 58,
   "metadata": {},
   "outputs": [
    {
     "name": "stdout",
     "output_type": "stream",
     "text": [
      "姓名：Max, 性別：male\n",
      "姓名：Elaine, 性別：female\n",
      "姓名：Michelle, 性別：female\n"
     ]
    }
   ],
   "source": [
    "info_list = list(zip(name_list, gender_list))\n",
    "\n",
    "for name, gender in info_list:\n",
    "    print(f'姓名：{name}, 性別：{gender}')"
   ]
  },
  {
   "cell_type": "markdown",
   "metadata": {},
   "source": [
    "## list comprehension（串列解析式）\n",
    "\n",
    "> **語法：**\n",
    "> <pre style='background-color:#FFF4C1'>\n",
    "[expression for item in iterable]\n",
    "</pre>\n",
    ">- expression：可以是 item 或運算式。\n",
    ">- item：接收可疊代的物件(Iterable Object)元素。\n",
    ">- iterable：可疊代的物件(Iterable Object)。\n",
    "\n",
    "> **優點：**\n",
    ">- 程式碼簡潔優美，比較好看。\n",
    ">- 增加可讀性。\n",
    ">- 程式碼運行效率較好。\n",
    "\n",
    "> **Ref：**\n",
    ">- https://www.learncodewithmike.com/2020/01/python-comprehension.html\n",
    ">- https://ithelp.ithome.com.tw/articles/10203788"
   ]
  },
  {
   "cell_type": "markdown",
   "metadata": {},
   "source": [
    "### Example 1"
   ]
  },
  {
   "cell_type": "code",
   "execution_count": 67,
   "metadata": {
    "scrolled": true
   },
   "outputs": [
    {
     "data": {
      "text/plain": [
       "50"
      ]
     },
     "execution_count": 67,
     "metadata": {},
     "output_type": "execute_result"
    }
   ],
   "source": [
    "even_numbers = []\n",
    "\n",
    "for number in range(100):\n",
    "    if number % 2 == 0:\n",
    "        even_numbers.append(number)\n",
    "        \n",
    "len(even_numbers)"
   ]
  },
  {
   "cell_type": "code",
   "execution_count": 68,
   "metadata": {},
   "outputs": [
    {
     "data": {
      "text/plain": [
       "50"
      ]
     },
     "execution_count": 68,
     "metadata": {},
     "output_type": "execute_result"
    }
   ],
   "source": [
    "# 上面四行可以濃縮成下面這一行\n",
    "\n",
    "even_numbers = [number for number in range(100) if number % 2 == 0]\n",
    "\n",
    "len(even_numbers)"
   ]
  },
  {
   "cell_type": "markdown",
   "metadata": {},
   "source": [
    "### Example 2"
   ]
  },
  {
   "cell_type": "code",
   "execution_count": 70,
   "metadata": {
    "scrolled": true
   },
   "outputs": [
    {
     "data": {
      "text/plain": [
       "[30, 80, 150, 240, 350]"
      ]
     },
     "execution_count": 70,
     "metadata": {},
     "output_type": "execute_result"
    }
   ],
   "source": [
    "price_list = [10, 20, 30, 40, 50]\n",
    "count_list = [3, 4, 5, 6, 7]\n",
    "lst = []\n",
    "\n",
    "for i in range(len(price_list)):\n",
    "    lst.append(price_list[i] * count_list[i])"
   ]
  },
  {
   "cell_type": "code",
   "execution_count": 71,
   "metadata": {},
   "outputs": [
    {
     "data": {
      "text/plain": [
       "[30, 80, 150, 240, 350]"
      ]
     },
     "execution_count": 71,
     "metadata": {},
     "output_type": "execute_result"
    }
   ],
   "source": [
    "lst = [price_list[i] * count_list[i] for i in range(len(price_list))]\n",
    "\n",
    "lst"
   ]
  },
  {
   "cell_type": "markdown",
   "metadata": {},
   "source": [
    "# try-except 例外處理"
   ]
  },
  {
   "cell_type": "code",
   "execution_count": null,
   "metadata": {},
   "outputs": [],
   "source": []
  }
 ],
 "metadata": {
  "kernelspec": {
   "display_name": "Python 3",
   "language": "python",
   "name": "python3"
  },
  "language_info": {
   "codemirror_mode": {
    "name": "ipython",
    "version": 3
   },
   "file_extension": ".py",
   "mimetype": "text/x-python",
   "name": "python",
   "nbconvert_exporter": "python",
   "pygments_lexer": "ipython3",
   "version": "3.8.5"
  },
  "toc": {
   "base_numbering": 1,
   "nav_menu": {},
   "number_sections": true,
   "sideBar": true,
   "skip_h1_title": false,
   "title_cell": "Table of Contents",
   "title_sidebar": "Contents",
   "toc_cell": false,
   "toc_position": {
    "height": "calc(100% - 180px)",
    "left": "10px",
    "top": "150px",
    "width": "305.455px"
   },
   "toc_section_display": true,
   "toc_window_display": true
  }
 },
 "nbformat": 4,
 "nbformat_minor": 4
}
