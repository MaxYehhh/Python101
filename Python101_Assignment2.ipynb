{
 "cells": [
  {
   "cell_type": "markdown",
   "metadata": {},
   "source": [
    "<p style=\"font-size:30px;font-weight:bold;margin-top:-0px\">Python 101</p>\n",
    "<p style=\"font-size:25px;font-weight:bold;\">Assignment 2 ─ 該怎麼找錢？（進階版）</p>\n",
    "<hr style=\"border:1px solid #edf1f2;\" />\n",
    "\n",
    "\n",
    "> **題目敘述**\n",
    "\n",
    "> **以下是一些範例**\n",
    "\n",
    "> **在本題中，請您透過程式，設計成可以輸入消費金額，並隨即輸出各張面額鈔票的找錢張數，需符合上述規則的唯一找錢方式。**\n",
    ">\n",
    "> 參考輸出形式：\n",
    ">- 輸入\n",
    "    - 請輸入消費金額：286\n",
    ">- 輸出\n",
    "    - 500： 1\n",
    "    - 100： 2\n",
    "    - 50： 0\n",
    "    - 10： 1\n",
    "    - 5： 0\n",
    "    - 1： 4\n",
    "\n",
    "----\n",
    "Ref：\n",
    "- Course：[用 Python 做商管程式設計（一）(Programming for Business Computing in Python (1))](https://www.coursera.org/learn/pbc1)\n",
    "- Assignment：https://www.coursera.org/learn/pbc1/exam/RYnNM/di-san-zhou-zuo-ye-gai-zen-mo-zhao-qian-jin-jie-ban/attempt"
   ]
  },
  {
   "cell_type": "code",
   "execution_count": 3,
   "metadata": {},
   "outputs": [],
   "source": [
    "import sys"
   ]
  },
  {
   "cell_type": "code",
   "execution_count": 13,
   "metadata": {},
   "outputs": [
    {
     "name": "stdout",
     "output_type": "stream",
     "text": [
      "請輸入消費金額：286\n",
      "500, 1; 100, 2; 10, 1; 1, 4\n"
     ]
    }
   ],
   "source": [
    "try:\n",
    "    expense = int(input('請輸入消費金額：'))\n",
    "    \n",
    "    if 1 <= expense <= 999:\n",
    "        change = 1000 - expense\n",
    "        a = change // 500\n",
    "        b = (change - 500*a) // 100\n",
    "        c = (change - 500*a - 100*b) // 50\n",
    "        d = (change - 500*a - 100*b - 50*c) // 10\n",
    "        e = (change - 500*a - 100*b - 50*c - 10*d) // 5\n",
    "        f = (change - 500*a - 100*b - 50*c - 10*d - 5*e) // 1\n",
    "        result = ''\n",
    "\n",
    "        if a != 0:\n",
    "            result = '500, ' + str(a) + '; '\n",
    "        if b != 0:\n",
    "            result = result + '100, ' + str(b) + '; '\n",
    "        if c != 0:\n",
    "            result = result + '50, ' + str(c) + '; '\n",
    "        if d != 0:\n",
    "            result = result + '10, ' + str(d) + '; '\n",
    "        if e != 0:\n",
    "            result = result + '5, ' + str(e) + '; '\n",
    "        if f != 0:\n",
    "            result = result + '1, ' + str(f) + '; '\n",
    "\n",
    "        print(result[:-2])\n",
    "    else:\n",
    "        print('請輸入介於 1 到 999 之間的整數')\n",
    "except:\n",
    "    print('請輸入整數')"
   ]
  },
  {
   "cell_type": "code",
   "execution_count": 16,
   "metadata": {},
   "outputs": [
    {
     "name": "stdout",
     "output_type": "stream",
     "text": [
      "請輸入消費金額：286\n",
      "\n"
     ]
    }
   ],
   "source": [
    "try:\n",
    "    expense = int(input('請輸入消費金額：'))\n",
    "    \n",
    "    if 1 <= expense <= 999:\n",
    "        change = 1000 - expense\n",
    "        a = change // 500\n",
    "        b = (change - 500*a) // 100\n",
    "        c = (change - 500*a - 100*b) // 50\n",
    "        d = (change - 500*a - 100*b - 50*c) // 10\n",
    "        e = (change - 500*a - 100*b - 50*c - 10*d) // 5\n",
    "        f = (change - 500*a - 100*b - 50*c - 10*d - 5*e) // 1\n",
    "        result = ''\n",
    "        \n",
    "#         for amount, num in {'500': a,'100': b,'50': c,'10': d,'5': e,'1': f}:\n",
    "#             if num != 0:\n",
    "#                 result = f'{amount}, {num};'\n",
    "#             else:\n",
    "#                 continue\n",
    "\n",
    "        print(result[:-2])\n",
    "        \n",
    "    else:\n",
    "        print('請輸入介於 1 到 999 之間的整數')\n",
    "except:\n",
    "    print('請輸入整數')"
   ]
  }
 ],
 "metadata": {
  "kernelspec": {
   "display_name": "Python 3",
   "language": "python",
   "name": "python3"
  },
  "language_info": {
   "codemirror_mode": {
    "name": "ipython",
    "version": 3
   },
   "file_extension": ".py",
   "mimetype": "text/x-python",
   "name": "python",
   "nbconvert_exporter": "python",
   "pygments_lexer": "ipython3",
   "version": "3.8.5"
  },
  "toc": {
   "base_numbering": 1,
   "nav_menu": {},
   "number_sections": true,
   "sideBar": true,
   "skip_h1_title": false,
   "title_cell": "Table of Contents",
   "title_sidebar": "Contents",
   "toc_cell": false,
   "toc_position": {},
   "toc_section_display": true,
   "toc_window_display": true
  }
 },
 "nbformat": 4,
 "nbformat_minor": 4
}
