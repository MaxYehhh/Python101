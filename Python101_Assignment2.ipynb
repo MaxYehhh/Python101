{
 "cells": [
  {
   "cell_type": "markdown",
   "metadata": {},
   "source": [
    "<p style=\"font-size:30px;font-weight:bold;margin-top:-0px\">Python 101</p>\n",
    "<p style=\"font-size:25px;font-weight:bold;\">Assignment 2 ─ 該怎麼找錢？（進階版）</p>\n",
    "<hr style=\"border:1px solid #edf1f2;\" />\n",
    "\n",
    "\n",
    "> **題目敘述**\n",
    "\n",
    "> **以下是一些範例**\n",
    "\n",
    "> **在本題中，請您透過程式，設計成可以輸入消費金額，並隨即輸出各張面額鈔票的找錢張數，需符合上述規則的唯一找錢方式。**\n",
    ">\n",
    "> 參考輸出形式：\n",
    ">- 輸入\n",
    "\n",
    ">- 輸出\n",
    "\n",
    "----\n",
    "Ref：\n",
    "- Course：[用 Python 做商管程式設計（一）(Programming for Business Computing in Python (1))](https://www.coursera.org/learn/pbc1)\n",
    "- Assignment：https://www.coursera.org/learn/pbc1/exam/RYnNM/di-san-zhou-zuo-ye-gai-zen-mo-zhao-qian-jin-jie-ban/attempt"
   ]
  },
  {
   "cell_type": "markdown",
   "metadata": {},
   "source": [
    "# Example: 消費金額 = $286\n",
    "\n",
    "- 請仿照以下輸出格式。"
   ]
  },
  {
   "cell_type": "code",
   "execution_count": 1,
   "metadata": {},
   "outputs": [
    {
     "name": "stdout",
     "output_type": "stream",
     "text": [
      "請輸入消費金額：286\n",
      "500, 1; 100, 2; 10, 1; 1, 4\n"
     ]
    }
   ],
   "source": [
    "print('請輸入消費金額：286')\n",
    "print('500, 1; 100, 2; 10, 1; 1, 4')"
   ]
  },
  {
   "cell_type": "markdown",
   "metadata": {},
   "source": [
    "# 找錢 function\n",
    "\n",
    "- 請將找錢的程式碼包裝成一個可調用的 function，並且將「消費金額」設定為參數。"
   ]
  },
  {
   "cell_type": "code",
   "execution_count": null,
   "metadata": {},
   "outputs": [],
   "source": []
  },
  {
   "cell_type": "markdown",
   "metadata": {},
   "source": [
    "# Q1: 消費金額 = 100"
   ]
  },
  {
   "cell_type": "code",
   "execution_count": null,
   "metadata": {},
   "outputs": [],
   "source": []
  },
  {
   "cell_type": "markdown",
   "metadata": {},
   "source": [
    "# Q2: 消費金額 = 1"
   ]
  },
  {
   "cell_type": "code",
   "execution_count": null,
   "metadata": {},
   "outputs": [],
   "source": []
  },
  {
   "cell_type": "markdown",
   "metadata": {},
   "source": [
    "# Q3: 消費金額 = 841"
   ]
  },
  {
   "cell_type": "code",
   "execution_count": null,
   "metadata": {},
   "outputs": [],
   "source": []
  }
 ],
 "metadata": {
  "kernelspec": {
   "display_name": "Python 3",
   "language": "python",
   "name": "python3"
  },
  "language_info": {
   "codemirror_mode": {
    "name": "ipython",
    "version": 3
   },
   "file_extension": ".py",
   "mimetype": "text/x-python",
   "name": "python",
   "nbconvert_exporter": "python",
   "pygments_lexer": "ipython3",
   "version": "3.8.5"
  },
  "toc": {
   "base_numbering": 1,
   "nav_menu": {},
   "number_sections": true,
   "sideBar": true,
   "skip_h1_title": false,
   "title_cell": "Table of Contents",
   "title_sidebar": "Contents",
   "toc_cell": false,
   "toc_position": {},
   "toc_section_display": true,
   "toc_window_display": true
  }
 },
 "nbformat": 4,
 "nbformat_minor": 4
}
